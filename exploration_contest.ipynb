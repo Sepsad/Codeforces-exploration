{
 "cells": [
  {
   "cell_type": "code",
   "execution_count": 99,
   "metadata": {},
   "outputs": [],
   "source": [
    "import bs4, requests, json\n",
    "import pandas as pd\n",
    "from statistics import mean, median\n",
    "from tqdm import tqdm"
   ]
  },
  {
   "cell_type": "markdown",
   "metadata": {},
   "source": [
    "# List of all contests (gym = true)"
   ]
  },
  {
   "cell_type": "code",
   "execution_count": 2,
   "metadata": {},
   "outputs": [
    {
     "data": {
      "text/html": [
       "<div>\n",
       "<style scoped>\n",
       "    .dataframe tbody tr th:only-of-type {\n",
       "        vertical-align: middle;\n",
       "    }\n",
       "\n",
       "    .dataframe tbody tr th {\n",
       "        vertical-align: top;\n",
       "    }\n",
       "\n",
       "    .dataframe thead th {\n",
       "        text-align: right;\n",
       "    }\n",
       "</style>\n",
       "<table border=\"1\" class=\"dataframe\">\n",
       "  <thead>\n",
       "    <tr style=\"text-align: right;\">\n",
       "      <th></th>\n",
       "      <th>id</th>\n",
       "      <th>name</th>\n",
       "      <th>type</th>\n",
       "      <th>phase</th>\n",
       "      <th>frozen</th>\n",
       "      <th>durationSeconds</th>\n",
       "      <th>description</th>\n",
       "      <th>difficulty</th>\n",
       "      <th>kind</th>\n",
       "      <th>season</th>\n",
       "      <th>preparedBy</th>\n",
       "      <th>icpcRegion</th>\n",
       "      <th>country</th>\n",
       "      <th>city</th>\n",
       "      <th>startTimeSeconds</th>\n",
       "      <th>relativeTimeSeconds</th>\n",
       "      <th>websiteUrl</th>\n",
       "    </tr>\n",
       "  </thead>\n",
       "  <tbody>\n",
       "    <tr>\n",
       "      <td>0</td>\n",
       "      <td>100001</td>\n",
       "      <td>2010 Codeforces Beta Round #1 (training)</td>\n",
       "      <td>ICPC</td>\n",
       "      <td>FINISHED</td>\n",
       "      <td>False</td>\n",
       "      <td>7200</td>\n",
       "      <td>This is the only contest for testing Codeforce...</td>\n",
       "      <td>3.0</td>\n",
       "      <td>Training Contest</td>\n",
       "      <td>2010-2011</td>\n",
       "      <td>NaN</td>\n",
       "      <td>NaN</td>\n",
       "      <td>NaN</td>\n",
       "      <td>NaN</td>\n",
       "      <td>NaN</td>\n",
       "      <td>NaN</td>\n",
       "      <td>NaN</td>\n",
       "    </tr>\n",
       "    <tr>\n",
       "      <td>1</td>\n",
       "      <td>100002</td>\n",
       "      <td>2002-2003 ACM-ICPC Northeastern European Regio...</td>\n",
       "      <td>ICPC</td>\n",
       "      <td>FINISHED</td>\n",
       "      <td>False</td>\n",
       "      <td>18000</td>\n",
       "      <td>NaN</td>\n",
       "      <td>4.0</td>\n",
       "      <td>Official ICPC Contest</td>\n",
       "      <td>2002-2003</td>\n",
       "      <td>MikeMirzayanov</td>\n",
       "      <td>Northeastern Europe Region</td>\n",
       "      <td>Russia</td>\n",
       "      <td>Saint Petersburg</td>\n",
       "      <td>NaN</td>\n",
       "      <td>NaN</td>\n",
       "      <td>NaN</td>\n",
       "    </tr>\n",
       "    <tr>\n",
       "      <td>2</td>\n",
       "      <td>100003</td>\n",
       "      <td>2008-2009 Всероссийская командная олимпиада шк...</td>\n",
       "      <td>ICPC</td>\n",
       "      <td>FINISHED</td>\n",
       "      <td>False</td>\n",
       "      <td>18000</td>\n",
       "      <td>NaN</td>\n",
       "      <td>3.0</td>\n",
       "      <td>Official School Contest</td>\n",
       "      <td>2008-2009</td>\n",
       "      <td>Edvard</td>\n",
       "      <td>NaN</td>\n",
       "      <td>Russia</td>\n",
       "      <td>Saint Petersburg</td>\n",
       "      <td>1.453514e+09</td>\n",
       "      <td>186928891.0</td>\n",
       "      <td>NaN</td>\n",
       "    </tr>\n",
       "    <tr>\n",
       "      <td>3</td>\n",
       "      <td>100004</td>\n",
       "      <td>Local Contest</td>\n",
       "      <td>ICPC</td>\n",
       "      <td>FINISHED</td>\n",
       "      <td>False</td>\n",
       "      <td>10800</td>\n",
       "      <td>NaN</td>\n",
       "      <td>3.0</td>\n",
       "      <td>Official School Contest</td>\n",
       "      <td>2017-2018</td>\n",
       "      <td>MikeMirzayanov</td>\n",
       "      <td>NaN</td>\n",
       "      <td>Uzbekistan</td>\n",
       "      <td>Namangan</td>\n",
       "      <td>1.511928e+09</td>\n",
       "      <td>128515291.0</td>\n",
       "      <td>NaN</td>\n",
       "    </tr>\n",
       "    <tr>\n",
       "      <td>4</td>\n",
       "      <td>100005</td>\n",
       "      <td>2010-2011 Цикл интернет-олимпиад. Вторая коман...</td>\n",
       "      <td>ICPC</td>\n",
       "      <td>FINISHED</td>\n",
       "      <td>False</td>\n",
       "      <td>18000</td>\n",
       "      <td>NaN</td>\n",
       "      <td>3.0</td>\n",
       "      <td>Training Contest</td>\n",
       "      <td>2010-2011</td>\n",
       "      <td>PavelKunyavskiy</td>\n",
       "      <td>NaN</td>\n",
       "      <td>Russia</td>\n",
       "      <td>NaN</td>\n",
       "      <td>NaN</td>\n",
       "      <td>NaN</td>\n",
       "      <td>NaN</td>\n",
       "    </tr>\n",
       "  </tbody>\n",
       "</table>\n",
       "</div>"
      ],
      "text/plain": [
       "       id                                               name  type     phase  \\\n",
       "0  100001           2010 Codeforces Beta Round #1 (training)  ICPC  FINISHED   \n",
       "1  100002  2002-2003 ACM-ICPC Northeastern European Regio...  ICPC  FINISHED   \n",
       "2  100003  2008-2009 Всероссийская командная олимпиада шк...  ICPC  FINISHED   \n",
       "3  100004                                      Local Contest  ICPC  FINISHED   \n",
       "4  100005  2010-2011 Цикл интернет-олимпиад. Вторая коман...  ICPC  FINISHED   \n",
       "\n",
       "   frozen  durationSeconds                                        description  \\\n",
       "0   False             7200  This is the only contest for testing Codeforce...   \n",
       "1   False            18000                                                NaN   \n",
       "2   False            18000                                                NaN   \n",
       "3   False            10800                                                NaN   \n",
       "4   False            18000                                                NaN   \n",
       "\n",
       "   difficulty                     kind     season       preparedBy  \\\n",
       "0         3.0         Training Contest  2010-2011              NaN   \n",
       "1         4.0    Official ICPC Contest  2002-2003   MikeMirzayanov   \n",
       "2         3.0  Official School Contest  2008-2009           Edvard   \n",
       "3         3.0  Official School Contest  2017-2018   MikeMirzayanov   \n",
       "4         3.0         Training Contest  2010-2011  PavelKunyavskiy   \n",
       "\n",
       "                   icpcRegion     country              city  startTimeSeconds  \\\n",
       "0                         NaN         NaN               NaN               NaN   \n",
       "1  Northeastern Europe Region      Russia  Saint Petersburg               NaN   \n",
       "2                         NaN      Russia  Saint Petersburg      1.453514e+09   \n",
       "3                         NaN  Uzbekistan          Namangan      1.511928e+09   \n",
       "4                         NaN      Russia               NaN               NaN   \n",
       "\n",
       "   relativeTimeSeconds websiteUrl  \n",
       "0                  NaN        NaN  \n",
       "1                  NaN        NaN  \n",
       "2          186928891.0        NaN  \n",
       "3          128515291.0        NaN  \n",
       "4                  NaN        NaN  "
      ]
     },
     "execution_count": 2,
     "metadata": {},
     "output_type": "execute_result"
    }
   ],
   "source": [
    "url = \"http://codeforces.com/api/contest.list?gym=true\"\n",
    "\n",
    "res = requests.get(url)\n",
    "\n",
    "soup = bs4.BeautifulSoup(res.text,'html.parser')\n",
    "newDictionary=json.loads(str(soup))\n",
    "\n",
    "all_contests_df = pd.DataFrame(newDictionary['result'])\n",
    "\n",
    "all_contests_df.head()\n"
   ]
  },
  {
   "cell_type": "code",
   "execution_count": 3,
   "metadata": {},
   "outputs": [
    {
     "data": {
      "text/plain": [
       "Official ICPC Contest                         303\n",
       "Official School Contest                       284\n",
       "Training Contest                              244\n",
       "School/University/City/Region Championship    201\n",
       "Training Camp Contest                         126\n",
       "Official International Personal Contest       113\n",
       "Opencup Contest                                21\n",
       "Name: kind, dtype: int64"
      ]
     },
     "execution_count": 3,
     "metadata": {},
     "output_type": "execute_result"
    }
   ],
   "source": [
    "all_contests_df.kind.value_counts()"
   ]
  },
  {
   "cell_type": "code",
   "execution_count": 4,
   "metadata": {},
   "outputs": [
    {
     "data": {
      "text/html": [
       "<div>\n",
       "<style scoped>\n",
       "    .dataframe tbody tr th:only-of-type {\n",
       "        vertical-align: middle;\n",
       "    }\n",
       "\n",
       "    .dataframe tbody tr th {\n",
       "        vertical-align: top;\n",
       "    }\n",
       "\n",
       "    .dataframe thead th {\n",
       "        text-align: right;\n",
       "    }\n",
       "</style>\n",
       "<table border=\"1\" class=\"dataframe\">\n",
       "  <thead>\n",
       "    <tr style=\"text-align: right;\">\n",
       "      <th></th>\n",
       "      <th>id</th>\n",
       "      <th>name</th>\n",
       "      <th>type</th>\n",
       "      <th>phase</th>\n",
       "      <th>frozen</th>\n",
       "      <th>durationSeconds</th>\n",
       "      <th>description</th>\n",
       "      <th>difficulty</th>\n",
       "      <th>kind</th>\n",
       "      <th>season</th>\n",
       "      <th>preparedBy</th>\n",
       "      <th>icpcRegion</th>\n",
       "      <th>country</th>\n",
       "      <th>city</th>\n",
       "      <th>startTimeSeconds</th>\n",
       "      <th>relativeTimeSeconds</th>\n",
       "      <th>websiteUrl</th>\n",
       "    </tr>\n",
       "  </thead>\n",
       "  <tbody>\n",
       "    <tr>\n",
       "      <td>317</td>\n",
       "      <td>100514</td>\n",
       "      <td>Crypto Cup 1.0</td>\n",
       "      <td>ICPC</td>\n",
       "      <td>FINISHED</td>\n",
       "      <td>False</td>\n",
       "      <td>23400</td>\n",
       "      <td>Cryptography Open CUP</td>\n",
       "      <td>3.0</td>\n",
       "      <td>Opencup Contest</td>\n",
       "      <td>2014-2015</td>\n",
       "      <td>Damon</td>\n",
       "      <td>NaN</td>\n",
       "      <td>Iran</td>\n",
       "      <td>Tehran</td>\n",
       "      <td>1.414845e+09</td>\n",
       "      <td>225598291.0</td>\n",
       "      <td>http://eprint.iacr.org</td>\n",
       "    </tr>\n",
       "    <tr>\n",
       "      <td>345</td>\n",
       "      <td>100571</td>\n",
       "      <td>Hello 2015 (Div.2)</td>\n",
       "      <td>ICPC</td>\n",
       "      <td>FINISHED</td>\n",
       "      <td>False</td>\n",
       "      <td>10800</td>\n",
       "      <td>NaN</td>\n",
       "      <td>3.0</td>\n",
       "      <td>Opencup Contest</td>\n",
       "      <td>2014-2015</td>\n",
       "      <td>PrinceOfPersia</td>\n",
       "      <td>NaN</td>\n",
       "      <td>Iran</td>\n",
       "      <td>Tehran</td>\n",
       "      <td>1.420645e+09</td>\n",
       "      <td>219798091.0</td>\n",
       "      <td>NaN</td>\n",
       "    </tr>\n",
       "    <tr>\n",
       "      <td>374</td>\n",
       "      <td>100633</td>\n",
       "      <td>2015 ICL, Finals, Div. 1</td>\n",
       "      <td>ICPC</td>\n",
       "      <td>FINISHED</td>\n",
       "      <td>False</td>\n",
       "      <td>18000</td>\n",
       "      <td>NaN</td>\n",
       "      <td>4.0</td>\n",
       "      <td>Opencup Contest</td>\n",
       "      <td>2014-2015</td>\n",
       "      <td>Scalar</td>\n",
       "      <td>NaN</td>\n",
       "      <td>Russia</td>\n",
       "      <td>Kazan’</td>\n",
       "      <td>NaN</td>\n",
       "      <td>NaN</td>\n",
       "      <td>http://icl.ru/turnir/</td>\n",
       "    </tr>\n",
       "    <tr>\n",
       "      <td>375</td>\n",
       "      <td>100637</td>\n",
       "      <td>2015 ICL, Finals, Div. 2</td>\n",
       "      <td>ICPC</td>\n",
       "      <td>FINISHED</td>\n",
       "      <td>False</td>\n",
       "      <td>18000</td>\n",
       "      <td>NaN</td>\n",
       "      <td>3.0</td>\n",
       "      <td>Opencup Contest</td>\n",
       "      <td>2014-2015</td>\n",
       "      <td>Scalar</td>\n",
       "      <td>NaN</td>\n",
       "      <td>Russia</td>\n",
       "      <td>Kazan’</td>\n",
       "      <td>NaN</td>\n",
       "      <td>NaN</td>\n",
       "      <td>http://icl.ru/turnir/</td>\n",
       "    </tr>\n",
       "    <tr>\n",
       "      <td>492</td>\n",
       "      <td>100917</td>\n",
       "      <td>2015-2016 XVI Open Cup, Grand Prix of Bashkort...</td>\n",
       "      <td>ICPC</td>\n",
       "      <td>FINISHED</td>\n",
       "      <td>False</td>\n",
       "      <td>18000</td>\n",
       "      <td>NaN</td>\n",
       "      <td>4.0</td>\n",
       "      <td>Opencup Contest</td>\n",
       "      <td>2015-2016</td>\n",
       "      <td>MikeMirzayanov</td>\n",
       "      <td>NaN</td>\n",
       "      <td>Russia</td>\n",
       "      <td>Izhevsk</td>\n",
       "      <td>1.457210e+09</td>\n",
       "      <td>183233491.0</td>\n",
       "      <td>http://opencup.ru/</td>\n",
       "    </tr>\n",
       "  </tbody>\n",
       "</table>\n",
       "</div>"
      ],
      "text/plain": [
       "         id                                               name  type  \\\n",
       "317  100514                                     Crypto Cup 1.0  ICPC   \n",
       "345  100571                                 Hello 2015 (Div.2)  ICPC   \n",
       "374  100633                           2015 ICL, Finals, Div. 1  ICPC   \n",
       "375  100637                           2015 ICL, Finals, Div. 2  ICPC   \n",
       "492  100917  2015-2016 XVI Open Cup, Grand Prix of Bashkort...  ICPC   \n",
       "\n",
       "        phase  frozen  durationSeconds            description  difficulty  \\\n",
       "317  FINISHED   False            23400  Cryptography Open CUP         3.0   \n",
       "345  FINISHED   False            10800                    NaN         3.0   \n",
       "374  FINISHED   False            18000                    NaN         4.0   \n",
       "375  FINISHED   False            18000                    NaN         3.0   \n",
       "492  FINISHED   False            18000                    NaN         4.0   \n",
       "\n",
       "                kind     season      preparedBy icpcRegion country     city  \\\n",
       "317  Opencup Contest  2014-2015           Damon        NaN    Iran   Tehran   \n",
       "345  Opencup Contest  2014-2015  PrinceOfPersia        NaN    Iran   Tehran   \n",
       "374  Opencup Contest  2014-2015          Scalar        NaN  Russia   Kazan’   \n",
       "375  Opencup Contest  2014-2015          Scalar        NaN  Russia   Kazan’   \n",
       "492  Opencup Contest  2015-2016  MikeMirzayanov        NaN  Russia  Izhevsk   \n",
       "\n",
       "     startTimeSeconds  relativeTimeSeconds              websiteUrl  \n",
       "317      1.414845e+09          225598291.0  http://eprint.iacr.org  \n",
       "345      1.420645e+09          219798091.0                     NaN  \n",
       "374               NaN                  NaN   http://icl.ru/turnir/  \n",
       "375               NaN                  NaN   http://icl.ru/turnir/  \n",
       "492      1.457210e+09          183233491.0      http://opencup.ru/  "
      ]
     },
     "execution_count": 4,
     "metadata": {},
     "output_type": "execute_result"
    }
   ],
   "source": [
    "opencup_contests_df = all_contests_df[all_contests_df.kind == 'Opencup Contest']\n",
    "opencup_contests_df.to_csv('Data/contests/opencup_contests.csv', index=False)\n",
    "opencup_contests_df.head()"
   ]
  },
  {
   "cell_type": "code",
   "execution_count": 5,
   "metadata": {},
   "outputs": [],
   "source": [
    "opencup_contests_ids = list(opencup_contests_df.id)"
   ]
  },
  {
   "cell_type": "markdown",
   "metadata": {},
   "source": [
    "# Final standing of open cup contests"
   ]
  },
  {
   "cell_type": "code",
   "execution_count": 6,
   "metadata": {},
   "outputs": [],
   "source": [
    "def clean_rows(df):\n",
    "    # data = pd.DataFrame\n",
    "    df['contestId'] = df.party.apply(lambda x: x['contestId'])\n",
    "    df['members'] = df.party.apply(lambda x: x['members'] if x['members'] else [])\n",
    "    df['teamName'] = df.party.apply(lambda x: x['teamName'] if ('teamName' in x.keys()) else '')\n",
    "    df['participantType'] = df.party.apply(lambda x: x['participantType'] if ('participantType' in x.keys()) else '')\n",
    "    df['ghost'] = df.party.apply(lambda x: x['ghost'] if ('ghost' in x.keys()) else '')\n",
    "    return df\n",
    "\n",
    "\n"
   ]
  },
  {
   "cell_type": "code",
   "execution_count": 7,
   "metadata": {},
   "outputs": [],
   "source": [
    "final_df = pd.DataFrame()\n",
    "standing_dfs = []\n",
    "problems_dfs = []\n",
    "for i in opencup_contests_ids:\n",
    "    url = \"http://codeforces.com/api/contest.standings?contestId={}&from=1&count=150&showUnofficial=true\".format(i)\n",
    "    res = requests.get(url)\n",
    "    while(res.status_code != 200):\n",
    "        res = requests.get(url)\n",
    "    soup = bs4.BeautifulSoup(res.text,'html.parser')\n",
    "    newDictionary=json.loads(str(soup))\n",
    "    standing_df = pd.DataFrame(newDictionary['result']['rows'])\n",
    "    standing_dfs.append((clean_rows(standing_df)))\n",
    "    problems_dfs.append(pd.DataFrame(newDictionary['result']['problems']))"
   ]
  },
  {
   "cell_type": "code",
   "execution_count": 8,
   "metadata": {},
   "outputs": [],
   "source": [
    "standing_df = pd.concat(standing_dfs)\n",
    "standing_df.to_csv('Data/contests/standing_opencup.csv', index=False)"
   ]
  },
  {
   "cell_type": "code",
   "execution_count": 9,
   "metadata": {},
   "outputs": [],
   "source": [
    "probems_df = pd.concat(problems_dfs)\n",
    "probems_df.to_csv('Data/contests/problems_opencup.csv', index=False)"
   ]
  },
  {
   "cell_type": "markdown",
   "metadata": {},
   "source": [
    "# get data of users"
   ]
  },
  {
   "cell_type": "code",
   "execution_count": 98,
   "metadata": {},
   "outputs": [],
   "source": [
    "def api_result(req):\n",
    "    res = requests.get(req)\n",
    "    soup = bs4.BeautifulSoup(res.text,'html.parser')\n",
    "    newDictionary = json.loads(str(soup))\n",
    "    return newDictionary\n",
    "def get_users_info(x):\n",
    "    req = \"https://codeforces.com/api/user.info?handles=\"\n",
    "    for i in x:\n",
    "        req += i\n",
    "        if i != x[-1]:\n",
    "            req += \";\"\n",
    "    return api_result(req)\n",
    "\n",
    "def get_submission_info(user, cnt = 100000): # returns \n",
    "    #print(\"CNT = \", cnt)\n",
    "    req = f\"https://codeforces.com/api/user.status?handle={user}&from=1&count={cnt}\"\n",
    "    x = api_result(req)\n",
    "    #print(x['status'])\n",
    "    if x['status'] != 'OK':\n",
    "        print(\"BAD\")\n",
    "        assert(0)\n",
    "    else:\n",
    "        cnt_verdicts = {}\n",
    "        list_rates = {}\n",
    "        tag_info = {}\n",
    "        for i in range(len(x['result'])):\n",
    "            problem = x['result'][i]['problem']\n",
    "            if not 'rating' in problem:\n",
    "                continue\n",
    "            rate = problem['rating']\n",
    "\n",
    "            tags = problem['tags']\n",
    "            verdict = x['result'][i]['verdict']\n",
    "            if not verdict in cnt_verdicts:\n",
    "                cnt_verdicts[verdict] = 0\n",
    "            cnt_verdicts[verdict] = cnt_verdicts[verdict] + 1\n",
    "            if verdict == 'OK':\n",
    "                for tag in tags:\n",
    "                    if not tag in list_rates:\n",
    "                        list_rates[tag] = []\n",
    "                    list_rates[tag].append(rate)\n",
    "\n",
    "        for tag in list_rates.keys():\n",
    "            rates = list_rates[tag]\n",
    "            ans = {}\n",
    "            ans[\"num\"] = len(rates)\n",
    "            ans[\"mean\"] = mean(rates)\n",
    "            ans[\"median\"] = median(rates)\n",
    "            tag_info[tag] = ans\n",
    "\n",
    "\n",
    "        return tag_info, cnt_verdicts"
   ]
  },
  {
   "cell_type": "code",
   "execution_count": 78,
   "metadata": {},
   "outputs": [],
   "source": [
    "users = ['tourist', 'Benq']\n",
    "\n",
    "\n",
    "x = get_users_info(users)"
   ]
  },
  {
   "cell_type": "code",
   "execution_count": 79,
   "metadata": {},
   "outputs": [
    {
     "name": "stdout",
     "output_type": "stream",
     "text": [
      "{'status': 'OK', 'result': [{'lastName': 'Korotkevich', 'country': 'Belarus', 'lastOnlineTimeSeconds': 1640393365, 'city': 'Gomel', 'rating': 3756, 'friendOfCount': 39206, 'titlePhoto': 'https://userpic.codeforces.org/422/title/50a270ed4a722867.jpg', 'handle': 'tourist', 'avatar': 'https://userpic.codeforces.org/422/avatar/2b5dbe87f0d859a2.jpg', 'firstName': 'Gennady', 'contribution': 175, 'organization': 'ITMO University', 'rank': 'legendary grandmaster', 'maxRating': 3870, 'registrationTimeSeconds': 1265987288, 'maxRank': 'legendary grandmaster'}, {'lastName': 'Qi', 'country': 'United States', 'lastOnlineTimeSeconds': 1640397785, 'city': 'Princeton', 'rating': 3532, 'friendOfCount': 8133, 'titlePhoto': 'https://userpic.codeforces.org/312472/title/7cf0a442d4071e87.jpg', 'handle': 'Benq', 'avatar': 'https://userpic.codeforces.org/312472/avatar/5716ac69aea8159a.jpg', 'firstName': 'Benjamin', 'contribution': 90, 'organization': 'MIT', 'rank': 'legendary grandmaster', 'maxRating': 3797, 'registrationTimeSeconds': 1435099979, 'maxRank': 'legendary grandmaster'}]}\n"
     ]
    }
   ],
   "source": [
    "print(x)"
   ]
  },
  {
   "cell_type": "code",
   "execution_count": 92,
   "metadata": {},
   "outputs": [
    {
     "name": "stdout",
     "output_type": "stream",
     "text": [
      "CNT =  100000\n",
      "OK\n"
     ]
    }
   ],
   "source": [
    "x, y = get_submission_info('Benq')"
   ]
  },
  {
   "cell_type": "code",
   "execution_count": 93,
   "metadata": {},
   "outputs": [
    {
     "name": "stdout",
     "output_type": "stream",
     "text": [
      "{'brute force': {'num': 447, 'mean': 1947.6510067114093, 'median': 1900}, 'constructive algorithms': {'num': 466, 'mean': 2106.6523605150214, 'median': 2100.0}, 'data structures': {'num': 720, 'mean': 2511.1111111111113, 'median': 2500.0}, 'graphs': {'num': 410, 'mean': 2421.951219512195, 'median': 2400.0}, 'shortest paths': {'num': 83, 'mean': 2453.012048192771, 'median': 2400}, 'combinatorics': {'num': 247, 'mean': 2454.655870445344, 'median': 2500}, 'dp': {'num': 735, 'mean': 2419.4557823129253, 'median': 2400}, 'implementation': {'num': 707, 'mean': 1589.2503536067893, 'median': 1500}, 'math': {'num': 854, 'mean': 2098.4777517564403, 'median': 2100.0}, 'trees': {'num': 362, 'mean': 2496.1325966850827, 'median': 2500.0}, 'matrices': {'num': 62, 'mean': 2609.6774193548385, 'median': 2600.0}, 'divide and conquer': {'num': 128, 'mean': 2614.0625, 'median': 2600.0}, 'number theory': {'num': 243, 'mean': 2197.9423868312756, 'median': 2200}, 'greedy': {'num': 692, 'mean': 1920.5202312138729, 'median': 1900.0}, 'fft': {'num': 86, 'mean': 3073.2558139534885, 'median': 3100.0}, 'dsu': {'num': 124, 'mean': 2391.1290322580644, 'median': 2400.0}, 'probabilities': {'num': 117, 'mean': 2547.008547008547, 'median': 2500}, 'geometry': {'num': 147, 'mean': 2365.986394557823, 'median': 2500}, 'interactive': {'num': 87, 'mean': 2554.022988505747, 'median': 2500}, 'binary search': {'num': 329, 'mean': 2250.759878419453, 'median': 2200}, 'dfs and similar': {'num': 298, 'mean': 2263.758389261745, 'median': 2300.0}, 'strings': {'num': 244, 'mean': 1995.9016393442623, 'median': 2000.0}, 'flows': {'num': 94, 'mean': 2714.8936170212764, 'median': 2700.0}, 'graph matchings': {'num': 49, 'mean': 2718.3673469387754, 'median': 2700}, 'two pointers': {'num': 127, 'mean': 1981.1023622047244, 'median': 1900}, 'sortings': {'num': 297, 'mean': 1905.050505050505, 'median': 1900}, 'bitmasks': {'num': 194, 'mean': 2337.6288659793813, 'median': 2400.0}, 'hashing': {'num': 79, 'mean': 2344.3037974683543, 'median': 2400}, '2-sat': {'num': 10, 'mean': 2680, 'median': 2650.0}, 'games': {'num': 67, 'mean': 2314.9253731343283, 'median': 2300}, 'string suffix structures': {'num': 45, 'mean': 2680, 'median': 2700}, '*special': {'num': 101, 'mean': 1854.4554455445545, 'median': 1700}, 'ternary search': {'num': 22, 'mean': 2163.6363636363635, 'median': 2100.0}, 'chinese remainder theorem': {'num': 15, 'mean': 2913.3333333333335, 'median': 2900}, 'meet-in-the-middle': {'num': 16, 'mean': 2406.25, 'median': 2400.0}, 'schedules': {'num': 2, 'mean': 2650, 'median': 2650.0}, 'expression parsing': {'num': 5, 'mean': 2000, 'median': 1700}}\n"
     ]
    }
   ],
   "source": [
    "print(x)"
   ]
  },
  {
   "cell_type": "code",
   "execution_count": 94,
   "metadata": {},
   "outputs": [
    {
     "name": "stdout",
     "output_type": "stream",
     "text": [
      "{'OK': 3195, 'TIME_LIMIT_EXCEEDED': 576, 'WRONG_ANSWER': 1550, 'COMPILATION_ERROR': 125, 'RUNTIME_ERROR': 263, 'MEMORY_LIMIT_EXCEEDED': 50, 'SKIPPED': 9, 'PARTIAL': 29, 'CHALLENGED': 20, 'IDLENESS_LIMIT_EXCEEDED': 7, 'FAILED': 1}\n"
     ]
    }
   ],
   "source": [
    "print(y)"
   ]
  },
  {
   "cell_type": "code",
   "execution_count": 95,
   "metadata": {},
   "outputs": [
    {
     "name": "stdout",
     "output_type": "stream",
     "text": [
      "10\n"
     ]
    }
   ],
   "source": [
    "top10 = ['tourist', 'Benq', 'maroonrk', 'Miracle03', 'peehs_moorhsum', 'Radewoosh', 'Petr', 'sunset', 'ko_osaga', 'jiangly']\n",
    "print(len(top10))"
   ]
  },
  {
   "cell_type": "code",
   "execution_count": 100,
   "metadata": {},
   "outputs": [],
   "source": [
    "def get_dataframe(users_list):\n",
    "    data = {'user': [], 'tag_info': [], 'verdict_count': []}\n",
    "    for user in tqdm(users_list):\n",
    "        x, y = get_submission_info(user)\n",
    "        data['user'].append(user)\n",
    "        data['tag_info'].append(x)\n",
    "        data['verdict_count'].append(y)\n",
    "    df = pd.DataFrame(data)\n",
    "    return df"
   ]
  },
  {
   "cell_type": "code",
   "execution_count": 102,
   "metadata": {},
   "outputs": [
    {
     "name": "stderr",
     "output_type": "stream",
     "text": [
      "100%|██████████| 10/10 [00:25<00:00,  2.53s/it]\n"
     ]
    },
    {
     "data": {
      "text/html": [
       "<div>\n",
       "<style scoped>\n",
       "    .dataframe tbody tr th:only-of-type {\n",
       "        vertical-align: middle;\n",
       "    }\n",
       "\n",
       "    .dataframe tbody tr th {\n",
       "        vertical-align: top;\n",
       "    }\n",
       "\n",
       "    .dataframe thead th {\n",
       "        text-align: right;\n",
       "    }\n",
       "</style>\n",
       "<table border=\"1\" class=\"dataframe\">\n",
       "  <thead>\n",
       "    <tr style=\"text-align: right;\">\n",
       "      <th></th>\n",
       "      <th>user</th>\n",
       "      <th>tag_info</th>\n",
       "      <th>verdict_count</th>\n",
       "    </tr>\n",
       "  </thead>\n",
       "  <tbody>\n",
       "    <tr>\n",
       "      <td>0</td>\n",
       "      <td>tourist</td>\n",
       "      <td>{'data structures': {'num': 326, 'mean': 2385....</td>\n",
       "      <td>{'OK': 1777, 'WRONG_ANSWER': 480, 'TIME_LIMIT_...</td>\n",
       "    </tr>\n",
       "    <tr>\n",
       "      <td>1</td>\n",
       "      <td>Benq</td>\n",
       "      <td>{'brute force': {'num': 447, 'mean': 1947.6510...</td>\n",
       "      <td>{'OK': 3195, 'TIME_LIMIT_EXCEEDED': 576, 'WRON...</td>\n",
       "    </tr>\n",
       "    <tr>\n",
       "      <td>2</td>\n",
       "      <td>maroonrk</td>\n",
       "      <td>{'binary search': {'num': 142, 'mean': 2269.71...</td>\n",
       "      <td>{'OK': 1362, 'WRONG_ANSWER': 586, 'TIME_LIMIT_...</td>\n",
       "    </tr>\n",
       "    <tr>\n",
       "      <td>3</td>\n",
       "      <td>Miracle03</td>\n",
       "      <td>{'data structures': {'num': 120, 'mean': 2465....</td>\n",
       "      <td>{'OK': 565, 'TIME_LIMIT_EXCEEDED': 130, 'COMPI...</td>\n",
       "    </tr>\n",
       "    <tr>\n",
       "      <td>4</td>\n",
       "      <td>peehs_moorhsum</td>\n",
       "      <td>{'data structures': {'num': 76, 'mean': 2247.3...</td>\n",
       "      <td>{'OK': 337, 'MEMORY_LIMIT_EXCEEDED': 13, 'TIME...</td>\n",
       "    </tr>\n",
       "  </tbody>\n",
       "</table>\n",
       "</div>"
      ],
      "text/plain": [
       "             user                                           tag_info  \\\n",
       "0         tourist  {'data structures': {'num': 326, 'mean': 2385....   \n",
       "1            Benq  {'brute force': {'num': 447, 'mean': 1947.6510...   \n",
       "2        maroonrk  {'binary search': {'num': 142, 'mean': 2269.71...   \n",
       "3       Miracle03  {'data structures': {'num': 120, 'mean': 2465....   \n",
       "4  peehs_moorhsum  {'data structures': {'num': 76, 'mean': 2247.3...   \n",
       "\n",
       "                                       verdict_count  \n",
       "0  {'OK': 1777, 'WRONG_ANSWER': 480, 'TIME_LIMIT_...  \n",
       "1  {'OK': 3195, 'TIME_LIMIT_EXCEEDED': 576, 'WRON...  \n",
       "2  {'OK': 1362, 'WRONG_ANSWER': 586, 'TIME_LIMIT_...  \n",
       "3  {'OK': 565, 'TIME_LIMIT_EXCEEDED': 130, 'COMPI...  \n",
       "4  {'OK': 337, 'MEMORY_LIMIT_EXCEEDED': 13, 'TIME...  "
      ]
     },
     "execution_count": 102,
     "metadata": {},
     "output_type": "execute_result"
    }
   ],
   "source": [
    "users_df = get_dataframe(users_list=top10)\n",
    "users_df.head()"
   ]
  },
  {
   "cell_type": "code",
   "execution_count": 103,
   "metadata": {},
   "outputs": [],
   "source": [
    "users_df.to_csv('Data/users/users.csv', index=False)"
   ]
  },
  {
   "cell_type": "code",
   "execution_count": null,
   "metadata": {},
   "outputs": [],
   "source": []
  }
 ],
 "metadata": {
  "interpreter": {
   "hash": "b0fa6594d8f4cbf19f97940f81e996739fb7646882a419484c72d19e05852a7e"
  },
  "kernelspec": {
   "display_name": "Python 3",
   "language": "python",
   "name": "python3"
  },
  "language_info": {
   "codemirror_mode": {
    "name": "ipython",
    "version": 3
   },
   "file_extension": ".py",
   "mimetype": "text/x-python",
   "name": "python",
   "nbconvert_exporter": "python",
   "pygments_lexer": "ipython3",
   "version": "3.7.4"
  }
 },
 "nbformat": 4,
 "nbformat_minor": 2
}
