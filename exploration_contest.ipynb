{
 "cells": [
  {
   "cell_type": "code",
   "execution_count": 81,
   "metadata": {},
   "outputs": [],
   "source": [
    "import bs4, requests, json\n",
    "import pandas as pd\n",
    "from statistics import mean, median\n",
    "from tqdm import tqdm\n",
    "import ast\n",
    "import re\n",
    "from googlesearch import search"
   ]
  },
  {
   "cell_type": "markdown",
   "metadata": {},
   "source": [
    "# List of all contests (gym = true)"
   ]
  },
  {
   "cell_type": "code",
   "execution_count": 2,
   "metadata": {},
   "outputs": [
    {
     "data": {
      "text/html": [
       "<div>\n",
       "<style scoped>\n",
       "    .dataframe tbody tr th:only-of-type {\n",
       "        vertical-align: middle;\n",
       "    }\n",
       "\n",
       "    .dataframe tbody tr th {\n",
       "        vertical-align: top;\n",
       "    }\n",
       "\n",
       "    .dataframe thead th {\n",
       "        text-align: right;\n",
       "    }\n",
       "</style>\n",
       "<table border=\"1\" class=\"dataframe\">\n",
       "  <thead>\n",
       "    <tr style=\"text-align: right;\">\n",
       "      <th></th>\n",
       "      <th>id</th>\n",
       "      <th>name</th>\n",
       "      <th>type</th>\n",
       "      <th>phase</th>\n",
       "      <th>frozen</th>\n",
       "      <th>durationSeconds</th>\n",
       "      <th>description</th>\n",
       "      <th>difficulty</th>\n",
       "      <th>kind</th>\n",
       "      <th>season</th>\n",
       "      <th>preparedBy</th>\n",
       "      <th>icpcRegion</th>\n",
       "      <th>country</th>\n",
       "      <th>city</th>\n",
       "      <th>startTimeSeconds</th>\n",
       "      <th>relativeTimeSeconds</th>\n",
       "      <th>websiteUrl</th>\n",
       "    </tr>\n",
       "  </thead>\n",
       "  <tbody>\n",
       "    <tr>\n",
       "      <td>0</td>\n",
       "      <td>100001</td>\n",
       "      <td>2010 Codeforces Beta Round #1 (training)</td>\n",
       "      <td>ICPC</td>\n",
       "      <td>FINISHED</td>\n",
       "      <td>False</td>\n",
       "      <td>7200</td>\n",
       "      <td>This is the only contest for testing Codeforce...</td>\n",
       "      <td>3.0</td>\n",
       "      <td>Training Contest</td>\n",
       "      <td>2010-2011</td>\n",
       "      <td>NaN</td>\n",
       "      <td>NaN</td>\n",
       "      <td>NaN</td>\n",
       "      <td>NaN</td>\n",
       "      <td>NaN</td>\n",
       "      <td>NaN</td>\n",
       "      <td>NaN</td>\n",
       "    </tr>\n",
       "    <tr>\n",
       "      <td>1</td>\n",
       "      <td>100002</td>\n",
       "      <td>2002-2003 ACM-ICPC Northeastern European Regio...</td>\n",
       "      <td>ICPC</td>\n",
       "      <td>FINISHED</td>\n",
       "      <td>False</td>\n",
       "      <td>18000</td>\n",
       "      <td>NaN</td>\n",
       "      <td>4.0</td>\n",
       "      <td>Official ICPC Contest</td>\n",
       "      <td>2002-2003</td>\n",
       "      <td>MikeMirzayanov</td>\n",
       "      <td>Northeastern Europe Region</td>\n",
       "      <td>Russia</td>\n",
       "      <td>Saint Petersburg</td>\n",
       "      <td>NaN</td>\n",
       "      <td>NaN</td>\n",
       "      <td>NaN</td>\n",
       "    </tr>\n",
       "    <tr>\n",
       "      <td>2</td>\n",
       "      <td>100003</td>\n",
       "      <td>2008-2009 Всероссийская командная олимпиада шк...</td>\n",
       "      <td>ICPC</td>\n",
       "      <td>FINISHED</td>\n",
       "      <td>False</td>\n",
       "      <td>18000</td>\n",
       "      <td>NaN</td>\n",
       "      <td>3.0</td>\n",
       "      <td>Official School Contest</td>\n",
       "      <td>2008-2009</td>\n",
       "      <td>Edvard</td>\n",
       "      <td>NaN</td>\n",
       "      <td>Russia</td>\n",
       "      <td>Saint Petersburg</td>\n",
       "      <td>1.453514e+09</td>\n",
       "      <td>186928891.0</td>\n",
       "      <td>NaN</td>\n",
       "    </tr>\n",
       "    <tr>\n",
       "      <td>3</td>\n",
       "      <td>100004</td>\n",
       "      <td>Local Contest</td>\n",
       "      <td>ICPC</td>\n",
       "      <td>FINISHED</td>\n",
       "      <td>False</td>\n",
       "      <td>10800</td>\n",
       "      <td>NaN</td>\n",
       "      <td>3.0</td>\n",
       "      <td>Official School Contest</td>\n",
       "      <td>2017-2018</td>\n",
       "      <td>MikeMirzayanov</td>\n",
       "      <td>NaN</td>\n",
       "      <td>Uzbekistan</td>\n",
       "      <td>Namangan</td>\n",
       "      <td>1.511928e+09</td>\n",
       "      <td>128515291.0</td>\n",
       "      <td>NaN</td>\n",
       "    </tr>\n",
       "    <tr>\n",
       "      <td>4</td>\n",
       "      <td>100005</td>\n",
       "      <td>2010-2011 Цикл интернет-олимпиад. Вторая коман...</td>\n",
       "      <td>ICPC</td>\n",
       "      <td>FINISHED</td>\n",
       "      <td>False</td>\n",
       "      <td>18000</td>\n",
       "      <td>NaN</td>\n",
       "      <td>3.0</td>\n",
       "      <td>Training Contest</td>\n",
       "      <td>2010-2011</td>\n",
       "      <td>PavelKunyavskiy</td>\n",
       "      <td>NaN</td>\n",
       "      <td>Russia</td>\n",
       "      <td>NaN</td>\n",
       "      <td>NaN</td>\n",
       "      <td>NaN</td>\n",
       "      <td>NaN</td>\n",
       "    </tr>\n",
       "  </tbody>\n",
       "</table>\n",
       "</div>"
      ],
      "text/plain": [
       "       id                                               name  type     phase  \\\n",
       "0  100001           2010 Codeforces Beta Round #1 (training)  ICPC  FINISHED   \n",
       "1  100002  2002-2003 ACM-ICPC Northeastern European Regio...  ICPC  FINISHED   \n",
       "2  100003  2008-2009 Всероссийская командная олимпиада шк...  ICPC  FINISHED   \n",
       "3  100004                                      Local Contest  ICPC  FINISHED   \n",
       "4  100005  2010-2011 Цикл интернет-олимпиад. Вторая коман...  ICPC  FINISHED   \n",
       "\n",
       "   frozen  durationSeconds                                        description  \\\n",
       "0   False             7200  This is the only contest for testing Codeforce...   \n",
       "1   False            18000                                                NaN   \n",
       "2   False            18000                                                NaN   \n",
       "3   False            10800                                                NaN   \n",
       "4   False            18000                                                NaN   \n",
       "\n",
       "   difficulty                     kind     season       preparedBy  \\\n",
       "0         3.0         Training Contest  2010-2011              NaN   \n",
       "1         4.0    Official ICPC Contest  2002-2003   MikeMirzayanov   \n",
       "2         3.0  Official School Contest  2008-2009           Edvard   \n",
       "3         3.0  Official School Contest  2017-2018   MikeMirzayanov   \n",
       "4         3.0         Training Contest  2010-2011  PavelKunyavskiy   \n",
       "\n",
       "                   icpcRegion     country              city  startTimeSeconds  \\\n",
       "0                         NaN         NaN               NaN               NaN   \n",
       "1  Northeastern Europe Region      Russia  Saint Petersburg               NaN   \n",
       "2                         NaN      Russia  Saint Petersburg      1.453514e+09   \n",
       "3                         NaN  Uzbekistan          Namangan      1.511928e+09   \n",
       "4                         NaN      Russia               NaN               NaN   \n",
       "\n",
       "   relativeTimeSeconds websiteUrl  \n",
       "0                  NaN        NaN  \n",
       "1                  NaN        NaN  \n",
       "2          186928891.0        NaN  \n",
       "3          128515291.0        NaN  \n",
       "4                  NaN        NaN  "
      ]
     },
     "execution_count": 2,
     "metadata": {},
     "output_type": "execute_result"
    }
   ],
   "source": [
    "url = \"http://codeforces.com/api/contest.list?gym=true\"\n",
    "\n",
    "res = requests.get(url)\n",
    "\n",
    "soup = bs4.BeautifulSoup(res.text,'html.parser')\n",
    "newDictionary=json.loads(str(soup))\n",
    "\n",
    "all_contests_df = pd.DataFrame(newDictionary['result'])\n",
    "\n",
    "all_contests_df.head()\n"
   ]
  },
  {
   "cell_type": "code",
   "execution_count": 3,
   "metadata": {},
   "outputs": [
    {
     "data": {
      "text/plain": [
       "Official ICPC Contest                         303\n",
       "Official School Contest                       284\n",
       "Training Contest                              244\n",
       "School/University/City/Region Championship    201\n",
       "Training Camp Contest                         126\n",
       "Official International Personal Contest       113\n",
       "Opencup Contest                                21\n",
       "Name: kind, dtype: int64"
      ]
     },
     "execution_count": 3,
     "metadata": {},
     "output_type": "execute_result"
    }
   ],
   "source": [
    "all_contests_df.kind.value_counts()"
   ]
  },
  {
   "cell_type": "code",
   "execution_count": 4,
   "metadata": {},
   "outputs": [
    {
     "data": {
      "text/html": [
       "<div>\n",
       "<style scoped>\n",
       "    .dataframe tbody tr th:only-of-type {\n",
       "        vertical-align: middle;\n",
       "    }\n",
       "\n",
       "    .dataframe tbody tr th {\n",
       "        vertical-align: top;\n",
       "    }\n",
       "\n",
       "    .dataframe thead th {\n",
       "        text-align: right;\n",
       "    }\n",
       "</style>\n",
       "<table border=\"1\" class=\"dataframe\">\n",
       "  <thead>\n",
       "    <tr style=\"text-align: right;\">\n",
       "      <th></th>\n",
       "      <th>id</th>\n",
       "      <th>name</th>\n",
       "      <th>type</th>\n",
       "      <th>phase</th>\n",
       "      <th>frozen</th>\n",
       "      <th>durationSeconds</th>\n",
       "      <th>description</th>\n",
       "      <th>difficulty</th>\n",
       "      <th>kind</th>\n",
       "      <th>season</th>\n",
       "      <th>preparedBy</th>\n",
       "      <th>icpcRegion</th>\n",
       "      <th>country</th>\n",
       "      <th>city</th>\n",
       "      <th>startTimeSeconds</th>\n",
       "      <th>relativeTimeSeconds</th>\n",
       "      <th>websiteUrl</th>\n",
       "    </tr>\n",
       "  </thead>\n",
       "  <tbody>\n",
       "    <tr>\n",
       "      <td>317</td>\n",
       "      <td>100514</td>\n",
       "      <td>Crypto Cup 1.0</td>\n",
       "      <td>ICPC</td>\n",
       "      <td>FINISHED</td>\n",
       "      <td>False</td>\n",
       "      <td>23400</td>\n",
       "      <td>Cryptography Open CUP</td>\n",
       "      <td>3.0</td>\n",
       "      <td>Opencup Contest</td>\n",
       "      <td>2014-2015</td>\n",
       "      <td>Damon</td>\n",
       "      <td>NaN</td>\n",
       "      <td>Iran</td>\n",
       "      <td>Tehran</td>\n",
       "      <td>1.414845e+09</td>\n",
       "      <td>225598291.0</td>\n",
       "      <td>http://eprint.iacr.org</td>\n",
       "    </tr>\n",
       "    <tr>\n",
       "      <td>345</td>\n",
       "      <td>100571</td>\n",
       "      <td>Hello 2015 (Div.2)</td>\n",
       "      <td>ICPC</td>\n",
       "      <td>FINISHED</td>\n",
       "      <td>False</td>\n",
       "      <td>10800</td>\n",
       "      <td>NaN</td>\n",
       "      <td>3.0</td>\n",
       "      <td>Opencup Contest</td>\n",
       "      <td>2014-2015</td>\n",
       "      <td>PrinceOfPersia</td>\n",
       "      <td>NaN</td>\n",
       "      <td>Iran</td>\n",
       "      <td>Tehran</td>\n",
       "      <td>1.420645e+09</td>\n",
       "      <td>219798091.0</td>\n",
       "      <td>NaN</td>\n",
       "    </tr>\n",
       "    <tr>\n",
       "      <td>374</td>\n",
       "      <td>100633</td>\n",
       "      <td>2015 ICL, Finals, Div. 1</td>\n",
       "      <td>ICPC</td>\n",
       "      <td>FINISHED</td>\n",
       "      <td>False</td>\n",
       "      <td>18000</td>\n",
       "      <td>NaN</td>\n",
       "      <td>4.0</td>\n",
       "      <td>Opencup Contest</td>\n",
       "      <td>2014-2015</td>\n",
       "      <td>Scalar</td>\n",
       "      <td>NaN</td>\n",
       "      <td>Russia</td>\n",
       "      <td>Kazan’</td>\n",
       "      <td>NaN</td>\n",
       "      <td>NaN</td>\n",
       "      <td>http://icl.ru/turnir/</td>\n",
       "    </tr>\n",
       "    <tr>\n",
       "      <td>375</td>\n",
       "      <td>100637</td>\n",
       "      <td>2015 ICL, Finals, Div. 2</td>\n",
       "      <td>ICPC</td>\n",
       "      <td>FINISHED</td>\n",
       "      <td>False</td>\n",
       "      <td>18000</td>\n",
       "      <td>NaN</td>\n",
       "      <td>3.0</td>\n",
       "      <td>Opencup Contest</td>\n",
       "      <td>2014-2015</td>\n",
       "      <td>Scalar</td>\n",
       "      <td>NaN</td>\n",
       "      <td>Russia</td>\n",
       "      <td>Kazan’</td>\n",
       "      <td>NaN</td>\n",
       "      <td>NaN</td>\n",
       "      <td>http://icl.ru/turnir/</td>\n",
       "    </tr>\n",
       "    <tr>\n",
       "      <td>492</td>\n",
       "      <td>100917</td>\n",
       "      <td>2015-2016 XVI Open Cup, Grand Prix of Bashkort...</td>\n",
       "      <td>ICPC</td>\n",
       "      <td>FINISHED</td>\n",
       "      <td>False</td>\n",
       "      <td>18000</td>\n",
       "      <td>NaN</td>\n",
       "      <td>4.0</td>\n",
       "      <td>Opencup Contest</td>\n",
       "      <td>2015-2016</td>\n",
       "      <td>MikeMirzayanov</td>\n",
       "      <td>NaN</td>\n",
       "      <td>Russia</td>\n",
       "      <td>Izhevsk</td>\n",
       "      <td>1.457210e+09</td>\n",
       "      <td>183233491.0</td>\n",
       "      <td>http://opencup.ru/</td>\n",
       "    </tr>\n",
       "  </tbody>\n",
       "</table>\n",
       "</div>"
      ],
      "text/plain": [
       "         id                                               name  type  \\\n",
       "317  100514                                     Crypto Cup 1.0  ICPC   \n",
       "345  100571                                 Hello 2015 (Div.2)  ICPC   \n",
       "374  100633                           2015 ICL, Finals, Div. 1  ICPC   \n",
       "375  100637                           2015 ICL, Finals, Div. 2  ICPC   \n",
       "492  100917  2015-2016 XVI Open Cup, Grand Prix of Bashkort...  ICPC   \n",
       "\n",
       "        phase  frozen  durationSeconds            description  difficulty  \\\n",
       "317  FINISHED   False            23400  Cryptography Open CUP         3.0   \n",
       "345  FINISHED   False            10800                    NaN         3.0   \n",
       "374  FINISHED   False            18000                    NaN         4.0   \n",
       "375  FINISHED   False            18000                    NaN         3.0   \n",
       "492  FINISHED   False            18000                    NaN         4.0   \n",
       "\n",
       "                kind     season      preparedBy icpcRegion country     city  \\\n",
       "317  Opencup Contest  2014-2015           Damon        NaN    Iran   Tehran   \n",
       "345  Opencup Contest  2014-2015  PrinceOfPersia        NaN    Iran   Tehran   \n",
       "374  Opencup Contest  2014-2015          Scalar        NaN  Russia   Kazan’   \n",
       "375  Opencup Contest  2014-2015          Scalar        NaN  Russia   Kazan’   \n",
       "492  Opencup Contest  2015-2016  MikeMirzayanov        NaN  Russia  Izhevsk   \n",
       "\n",
       "     startTimeSeconds  relativeTimeSeconds              websiteUrl  \n",
       "317      1.414845e+09          225598291.0  http://eprint.iacr.org  \n",
       "345      1.420645e+09          219798091.0                     NaN  \n",
       "374               NaN                  NaN   http://icl.ru/turnir/  \n",
       "375               NaN                  NaN   http://icl.ru/turnir/  \n",
       "492      1.457210e+09          183233491.0      http://opencup.ru/  "
      ]
     },
     "execution_count": 4,
     "metadata": {},
     "output_type": "execute_result"
    }
   ],
   "source": [
    "opencup_contests_df = all_contests_df[all_contests_df.kind == 'Opencup Contest']\n",
    "opencup_contests_df.to_csv('Data/contests/opencup_contests.csv', index=False)\n",
    "opencup_contests_df.head()"
   ]
  },
  {
   "cell_type": "code",
   "execution_count": 5,
   "metadata": {},
   "outputs": [],
   "source": [
    "opencup_contests_ids = list(opencup_contests_df.id)"
   ]
  },
  {
   "cell_type": "markdown",
   "metadata": {},
   "source": [
    "# Final standing of open cup contests"
   ]
  },
  {
   "cell_type": "code",
   "execution_count": 6,
   "metadata": {},
   "outputs": [],
   "source": [
    "def clean_rows(df):\n",
    "    # data = pd.DataFrame\n",
    "    df['contestId'] = df.party.apply(lambda x: x['contestId'])\n",
    "    df['members'] = df.party.apply(lambda x: x['members'] if x['members'] else [])\n",
    "    df['teamName'] = df.party.apply(lambda x: x['teamName'] if ('teamName' in x.keys()) else '')\n",
    "    df['participantType'] = df.party.apply(lambda x: x['participantType'] if ('participantType' in x.keys()) else '')\n",
    "    df['ghost'] = df.party.apply(lambda x: x['ghost'] if ('ghost' in x.keys()) else '')\n",
    "    return df\n",
    "\n",
    "\n"
   ]
  },
  {
   "cell_type": "code",
   "execution_count": 7,
   "metadata": {},
   "outputs": [],
   "source": [
    "final_df = pd.DataFrame()\n",
    "standing_dfs = []\n",
    "problems_dfs = []\n",
    "for i in opencup_contests_ids:\n",
    "    url = \"http://codeforces.com/api/contest.standings?contestId={}&from=1&count=150&showUnofficial=true\".format(i)\n",
    "    res = requests.get(url)\n",
    "    while(res.status_code != 200):\n",
    "        res = requests.get(url)\n",
    "    soup = bs4.BeautifulSoup(res.text,'html.parser')\n",
    "    newDictionary=json.loads(str(soup))\n",
    "    standing_df = pd.DataFrame(newDictionary['result']['rows'])\n",
    "    standing_dfs.append((clean_rows(standing_df)))\n",
    "    problems_dfs.append(pd.DataFrame(newDictionary['result']['problems']))"
   ]
  },
  {
   "cell_type": "code",
   "execution_count": 8,
   "metadata": {},
   "outputs": [],
   "source": [
    "standing_df = pd.concat(standing_dfs)\n",
    "standing_df.to_csv('Data/contests/standing_opencup.csv', index=False)"
   ]
  },
  {
   "cell_type": "code",
   "execution_count": 9,
   "metadata": {},
   "outputs": [],
   "source": [
    "probems_df = pd.concat(problems_dfs)\n",
    "probems_df.to_csv('Data/contests/problems_opencup.csv', index=False)"
   ]
  },
  {
   "cell_type": "markdown",
   "metadata": {},
   "source": [
    "# get data of users"
   ]
  },
  {
   "cell_type": "code",
   "execution_count": 98,
   "metadata": {},
   "outputs": [],
   "source": [
    "def api_result(req):\n",
    "    res = requests.get(req)\n",
    "    soup = bs4.BeautifulSoup(res.text,'html.parser')\n",
    "    newDictionary = json.loads(str(soup))\n",
    "    return newDictionary\n",
    "def get_users_info(x):\n",
    "    req = \"https://codeforces.com/api/user.info?handles=\"\n",
    "    for i in x:\n",
    "        req += i\n",
    "        if i != x[-1]:\n",
    "            req += \";\"\n",
    "    return api_result(req)\n",
    "\n",
    "def get_submission_info(user, cnt = 100000): # returns \n",
    "    #print(\"CNT = \", cnt)\n",
    "    req = f\"https://codeforces.com/api/user.status?handle={user}&from=1&count={cnt}\"\n",
    "    x = api_result(req)\n",
    "    #print(x['status'])\n",
    "    if x['status'] != 'OK':\n",
    "        print(\"BAD\")\n",
    "        assert(0)\n",
    "    else:\n",
    "        cnt_verdicts = {}\n",
    "        list_rates = {}\n",
    "        tag_info = {}\n",
    "        for i in range(len(x['result'])):\n",
    "            problem = x['result'][i]['problem']\n",
    "            if not 'rating' in problem:\n",
    "                continue\n",
    "            rate = problem['rating']\n",
    "\n",
    "            tags = problem['tags']\n",
    "            verdict = x['result'][i]['verdict']\n",
    "            if not verdict in cnt_verdicts:\n",
    "                cnt_verdicts[verdict] = 0\n",
    "            cnt_verdicts[verdict] = cnt_verdicts[verdict] + 1\n",
    "            if verdict == 'OK':\n",
    "                for tag in tags:\n",
    "                    if not tag in list_rates:\n",
    "                        list_rates[tag] = []\n",
    "                    list_rates[tag].append(rate)\n",
    "\n",
    "        for tag in list_rates.keys():\n",
    "            rates = list_rates[tag]\n",
    "            ans = {}\n",
    "            ans[\"num\"] = len(rates)\n",
    "            ans[\"mean\"] = mean(rates)\n",
    "            ans[\"median\"] = median(rates)\n",
    "            tag_info[tag] = ans\n",
    "\n",
    "\n",
    "        return tag_info, cnt_verdicts"
   ]
  },
  {
   "cell_type": "code",
   "execution_count": 78,
   "metadata": {},
   "outputs": [],
   "source": [
    "users = ['tourist', 'Benq']\n",
    "\n",
    "\n",
    "x = get_users_info(users)"
   ]
  },
  {
   "cell_type": "code",
   "execution_count": 79,
   "metadata": {},
   "outputs": [
    {
     "name": "stdout",
     "output_type": "stream",
     "text": [
      "{'status': 'OK', 'result': [{'lastName': 'Korotkevich', 'country': 'Belarus', 'lastOnlineTimeSeconds': 1640393365, 'city': 'Gomel', 'rating': 3756, 'friendOfCount': 39206, 'titlePhoto': 'https://userpic.codeforces.org/422/title/50a270ed4a722867.jpg', 'handle': 'tourist', 'avatar': 'https://userpic.codeforces.org/422/avatar/2b5dbe87f0d859a2.jpg', 'firstName': 'Gennady', 'contribution': 175, 'organization': 'ITMO University', 'rank': 'legendary grandmaster', 'maxRating': 3870, 'registrationTimeSeconds': 1265987288, 'maxRank': 'legendary grandmaster'}, {'lastName': 'Qi', 'country': 'United States', 'lastOnlineTimeSeconds': 1640397785, 'city': 'Princeton', 'rating': 3532, 'friendOfCount': 8133, 'titlePhoto': 'https://userpic.codeforces.org/312472/title/7cf0a442d4071e87.jpg', 'handle': 'Benq', 'avatar': 'https://userpic.codeforces.org/312472/avatar/5716ac69aea8159a.jpg', 'firstName': 'Benjamin', 'contribution': 90, 'organization': 'MIT', 'rank': 'legendary grandmaster', 'maxRating': 3797, 'registrationTimeSeconds': 1435099979, 'maxRank': 'legendary grandmaster'}]}\n"
     ]
    }
   ],
   "source": [
    "print(x)"
   ]
  },
  {
   "cell_type": "code",
   "execution_count": 92,
   "metadata": {},
   "outputs": [
    {
     "name": "stdout",
     "output_type": "stream",
     "text": [
      "CNT =  100000\n",
      "OK\n"
     ]
    }
   ],
   "source": [
    "x, y = get_submission_info('Benq')"
   ]
  },
  {
   "cell_type": "code",
   "execution_count": 93,
   "metadata": {},
   "outputs": [
    {
     "name": "stdout",
     "output_type": "stream",
     "text": [
      "{'brute force': {'num': 447, 'mean': 1947.6510067114093, 'median': 1900}, 'constructive algorithms': {'num': 466, 'mean': 2106.6523605150214, 'median': 2100.0}, 'data structures': {'num': 720, 'mean': 2511.1111111111113, 'median': 2500.0}, 'graphs': {'num': 410, 'mean': 2421.951219512195, 'median': 2400.0}, 'shortest paths': {'num': 83, 'mean': 2453.012048192771, 'median': 2400}, 'combinatorics': {'num': 247, 'mean': 2454.655870445344, 'median': 2500}, 'dp': {'num': 735, 'mean': 2419.4557823129253, 'median': 2400}, 'implementation': {'num': 707, 'mean': 1589.2503536067893, 'median': 1500}, 'math': {'num': 854, 'mean': 2098.4777517564403, 'median': 2100.0}, 'trees': {'num': 362, 'mean': 2496.1325966850827, 'median': 2500.0}, 'matrices': {'num': 62, 'mean': 2609.6774193548385, 'median': 2600.0}, 'divide and conquer': {'num': 128, 'mean': 2614.0625, 'median': 2600.0}, 'number theory': {'num': 243, 'mean': 2197.9423868312756, 'median': 2200}, 'greedy': {'num': 692, 'mean': 1920.5202312138729, 'median': 1900.0}, 'fft': {'num': 86, 'mean': 3073.2558139534885, 'median': 3100.0}, 'dsu': {'num': 124, 'mean': 2391.1290322580644, 'median': 2400.0}, 'probabilities': {'num': 117, 'mean': 2547.008547008547, 'median': 2500}, 'geometry': {'num': 147, 'mean': 2365.986394557823, 'median': 2500}, 'interactive': {'num': 87, 'mean': 2554.022988505747, 'median': 2500}, 'binary search': {'num': 329, 'mean': 2250.759878419453, 'median': 2200}, 'dfs and similar': {'num': 298, 'mean': 2263.758389261745, 'median': 2300.0}, 'strings': {'num': 244, 'mean': 1995.9016393442623, 'median': 2000.0}, 'flows': {'num': 94, 'mean': 2714.8936170212764, 'median': 2700.0}, 'graph matchings': {'num': 49, 'mean': 2718.3673469387754, 'median': 2700}, 'two pointers': {'num': 127, 'mean': 1981.1023622047244, 'median': 1900}, 'sortings': {'num': 297, 'mean': 1905.050505050505, 'median': 1900}, 'bitmasks': {'num': 194, 'mean': 2337.6288659793813, 'median': 2400.0}, 'hashing': {'num': 79, 'mean': 2344.3037974683543, 'median': 2400}, '2-sat': {'num': 10, 'mean': 2680, 'median': 2650.0}, 'games': {'num': 67, 'mean': 2314.9253731343283, 'median': 2300}, 'string suffix structures': {'num': 45, 'mean': 2680, 'median': 2700}, '*special': {'num': 101, 'mean': 1854.4554455445545, 'median': 1700}, 'ternary search': {'num': 22, 'mean': 2163.6363636363635, 'median': 2100.0}, 'chinese remainder theorem': {'num': 15, 'mean': 2913.3333333333335, 'median': 2900}, 'meet-in-the-middle': {'num': 16, 'mean': 2406.25, 'median': 2400.0}, 'schedules': {'num': 2, 'mean': 2650, 'median': 2650.0}, 'expression parsing': {'num': 5, 'mean': 2000, 'median': 1700}}\n"
     ]
    }
   ],
   "source": [
    "print(x)"
   ]
  },
  {
   "cell_type": "code",
   "execution_count": 94,
   "metadata": {},
   "outputs": [
    {
     "name": "stdout",
     "output_type": "stream",
     "text": [
      "{'OK': 3195, 'TIME_LIMIT_EXCEEDED': 576, 'WRONG_ANSWER': 1550, 'COMPILATION_ERROR': 125, 'RUNTIME_ERROR': 263, 'MEMORY_LIMIT_EXCEEDED': 50, 'SKIPPED': 9, 'PARTIAL': 29, 'CHALLENGED': 20, 'IDLENESS_LIMIT_EXCEEDED': 7, 'FAILED': 1}\n"
     ]
    }
   ],
   "source": [
    "print(y)"
   ]
  },
  {
   "cell_type": "code",
   "execution_count": 95,
   "metadata": {},
   "outputs": [
    {
     "name": "stdout",
     "output_type": "stream",
     "text": [
      "10\n"
     ]
    }
   ],
   "source": [
    "top10 = ['tourist', 'Benq', 'maroonrk', 'Miracle03', 'peehs_moorhsum', 'Radewoosh', 'Petr', 'sunset', 'ko_osaga', 'jiangly']\n",
    "print(len(top10))"
   ]
  },
  {
   "cell_type": "code",
   "execution_count": 100,
   "metadata": {},
   "outputs": [],
   "source": [
    "def get_dataframe(users_list):\n",
    "    data = {'user': [], 'tag_info': [], 'verdict_count': []}\n",
    "    for user in tqdm(users_list):\n",
    "        x, y = get_submission_info(user)\n",
    "        data['user'].append(user)\n",
    "        data['tag_info'].append(x)\n",
    "        data['verdict_count'].append(y)\n",
    "    df = pd.DataFrame(data)\n",
    "    return df"
   ]
  },
  {
   "cell_type": "code",
   "execution_count": 102,
   "metadata": {},
   "outputs": [
    {
     "name": "stderr",
     "output_type": "stream",
     "text": [
      "100%|██████████| 10/10 [00:25<00:00,  2.53s/it]\n"
     ]
    },
    {
     "data": {
      "text/html": [
       "<div>\n",
       "<style scoped>\n",
       "    .dataframe tbody tr th:only-of-type {\n",
       "        vertical-align: middle;\n",
       "    }\n",
       "\n",
       "    .dataframe tbody tr th {\n",
       "        vertical-align: top;\n",
       "    }\n",
       "\n",
       "    .dataframe thead th {\n",
       "        text-align: right;\n",
       "    }\n",
       "</style>\n",
       "<table border=\"1\" class=\"dataframe\">\n",
       "  <thead>\n",
       "    <tr style=\"text-align: right;\">\n",
       "      <th></th>\n",
       "      <th>user</th>\n",
       "      <th>tag_info</th>\n",
       "      <th>verdict_count</th>\n",
       "    </tr>\n",
       "  </thead>\n",
       "  <tbody>\n",
       "    <tr>\n",
       "      <td>0</td>\n",
       "      <td>tourist</td>\n",
       "      <td>{'data structures': {'num': 326, 'mean': 2385....</td>\n",
       "      <td>{'OK': 1777, 'WRONG_ANSWER': 480, 'TIME_LIMIT_...</td>\n",
       "    </tr>\n",
       "    <tr>\n",
       "      <td>1</td>\n",
       "      <td>Benq</td>\n",
       "      <td>{'brute force': {'num': 447, 'mean': 1947.6510...</td>\n",
       "      <td>{'OK': 3195, 'TIME_LIMIT_EXCEEDED': 576, 'WRON...</td>\n",
       "    </tr>\n",
       "    <tr>\n",
       "      <td>2</td>\n",
       "      <td>maroonrk</td>\n",
       "      <td>{'binary search': {'num': 142, 'mean': 2269.71...</td>\n",
       "      <td>{'OK': 1362, 'WRONG_ANSWER': 586, 'TIME_LIMIT_...</td>\n",
       "    </tr>\n",
       "    <tr>\n",
       "      <td>3</td>\n",
       "      <td>Miracle03</td>\n",
       "      <td>{'data structures': {'num': 120, 'mean': 2465....</td>\n",
       "      <td>{'OK': 565, 'TIME_LIMIT_EXCEEDED': 130, 'COMPI...</td>\n",
       "    </tr>\n",
       "    <tr>\n",
       "      <td>4</td>\n",
       "      <td>peehs_moorhsum</td>\n",
       "      <td>{'data structures': {'num': 76, 'mean': 2247.3...</td>\n",
       "      <td>{'OK': 337, 'MEMORY_LIMIT_EXCEEDED': 13, 'TIME...</td>\n",
       "    </tr>\n",
       "  </tbody>\n",
       "</table>\n",
       "</div>"
      ],
      "text/plain": [
       "             user                                           tag_info  \\\n",
       "0         tourist  {'data structures': {'num': 326, 'mean': 2385....   \n",
       "1            Benq  {'brute force': {'num': 447, 'mean': 1947.6510...   \n",
       "2        maroonrk  {'binary search': {'num': 142, 'mean': 2269.71...   \n",
       "3       Miracle03  {'data structures': {'num': 120, 'mean': 2465....   \n",
       "4  peehs_moorhsum  {'data structures': {'num': 76, 'mean': 2247.3...   \n",
       "\n",
       "                                       verdict_count  \n",
       "0  {'OK': 1777, 'WRONG_ANSWER': 480, 'TIME_LIMIT_...  \n",
       "1  {'OK': 3195, 'TIME_LIMIT_EXCEEDED': 576, 'WRON...  \n",
       "2  {'OK': 1362, 'WRONG_ANSWER': 586, 'TIME_LIMIT_...  \n",
       "3  {'OK': 565, 'TIME_LIMIT_EXCEEDED': 130, 'COMPI...  \n",
       "4  {'OK': 337, 'MEMORY_LIMIT_EXCEEDED': 13, 'TIME...  "
      ]
     },
     "execution_count": 102,
     "metadata": {},
     "output_type": "execute_result"
    }
   ],
   "source": [
    "users_df = get_dataframe(users_list=top10)\n",
    "users_df.head()"
   ]
  },
  {
   "cell_type": "code",
   "execution_count": 137,
   "metadata": {},
   "outputs": [],
   "source": [
    "google_results = {}"
   ]
  },
  {
   "cell_type": "markdown",
   "metadata": {},
   "source": [
    "# google username"
   ]
  },
  {
   "cell_type": "code",
   "execution_count": 138,
   "metadata": {},
   "outputs": [],
   "source": [
    "def google_username(x):\n",
    "    if x in google_results.keys():\n",
    "        return google_results[x]\n",
    "    query = \"codeforces user \" + x\n",
    "    #print(query)\n",
    "    ht1 = 'http://codeforces.com/profile/'\n",
    "    ht2 = 'https://codeforces.com/profile/'\n",
    "    for i in search(query, tld=\"co.in\", num=2, stop=2, pause=2):\n",
    "        #print(i)\n",
    "        for j in [ht1, ht2]:\n",
    "            if i.startswith(j):\n",
    "                x = len(j)\n",
    "                ans = \"\"\n",
    "                for j in range(x, len(i)):\n",
    "                    if i[j] == \"?\" or i[j] == \"/\":\n",
    "                        break\n",
    "                    ans += i[j]\n",
    "                if ans != \"\":\n",
    "                    google_results[x] = ans\n",
    "                    return ans\n",
    "    google_results[x] = \"404notfound\"\n",
    "    return \"404notfound\""
   ]
  },
  {
   "cell_type": "code",
   "execution_count": 139,
   "metadata": {},
   "outputs": [
    {
     "data": {
      "text/plain": [
       "'petr'"
      ]
     },
     "execution_count": 139,
     "metadata": {},
     "output_type": "execute_result"
    }
   ],
   "source": [
    "google_username('Mitrichev')"
   ]
  },
  {
   "cell_type": "code",
   "execution_count": 103,
   "metadata": {},
   "outputs": [],
   "source": [
    "users_df.to_csv('Data/users/users.csv', index=False)"
   ]
  },
  {
   "cell_type": "code",
   "execution_count": 41,
   "metadata": {},
   "outputs": [
    {
     "name": "stdout",
     "output_type": "stream",
     "text": [
      "3102\n"
     ]
    }
   ],
   "source": [
    "standing = pd.read_csv(\"Data/contests/standing_opencup.csv\")\n",
    "#standing = standing.loc[standing[\"participantType\"] == \"CONTESTANT\"]\n",
    "print(len(standing))\n",
    "#standing = standing.loc[standing[\"ghost\"] == True]\n",
    "#print(len(standing))"
   ]
  },
  {
   "cell_type": "code",
   "execution_count": 151,
   "metadata": {},
   "outputs": [],
   "source": []
  },
  {
   "cell_type": "code",
   "execution_count": 152,
   "metadata": {},
   "outputs": [
    {
     "name": "stdout",
     "output_type": "stream",
     "text": [
      "3102 3102 3102\n"
     ]
    }
   ],
   "source": [
    "print(len(ghost), len(party), len(members))"
   ]
  },
  {
   "cell_type": "code",
   "execution_count": 158,
   "metadata": {},
   "outputs": [
    {
     "ename": "HTTPError",
     "evalue": "HTTP Error 429: Too Many Requests",
     "output_type": "error",
     "traceback": [
      "\u001b[0;31m---------------------------------------------------------------------------\u001b[0m",
      "\u001b[0;31mHTTPError\u001b[0m                                 Traceback (most recent call last)",
      "\u001b[0;32m<ipython-input-158-087c007a9c59>\u001b[0m in \u001b[0;36m<module>\u001b[0;34m\u001b[0m\n\u001b[1;32m     15\u001b[0m             \u001b[0musers\u001b[0m \u001b[0;34m=\u001b[0m \u001b[0;34m[\u001b[0m\u001b[0;34m]\u001b[0m\u001b[0;34m\u001b[0m\u001b[0;34m\u001b[0m\u001b[0m\n\u001b[1;32m     16\u001b[0m             \u001b[0;32mfor\u001b[0m \u001b[0mquery\u001b[0m \u001b[0;32min\u001b[0m \u001b[0mhaha\u001b[0m\u001b[0;34m:\u001b[0m\u001b[0;34m\u001b[0m\u001b[0;34m\u001b[0m\u001b[0m\n\u001b[0;32m---> 17\u001b[0;31m                 \u001b[0mans\u001b[0m \u001b[0;34m=\u001b[0m \u001b[0mgoogle_username\u001b[0m\u001b[0;34m(\u001b[0m\u001b[0mquery\u001b[0m\u001b[0;34m)\u001b[0m\u001b[0;34m\u001b[0m\u001b[0;34m\u001b[0m\u001b[0m\n\u001b[0m\u001b[1;32m     18\u001b[0m                 \u001b[0;31m#print(query, ans)\u001b[0m\u001b[0;34m\u001b[0m\u001b[0;34m\u001b[0m\u001b[0;34m\u001b[0m\u001b[0m\n\u001b[1;32m     19\u001b[0m                 \u001b[0;32mif\u001b[0m \u001b[0mans\u001b[0m \u001b[0;34m!=\u001b[0m \u001b[0;34m'404notfound'\u001b[0m\u001b[0;34m:\u001b[0m\u001b[0;34m\u001b[0m\u001b[0;34m\u001b[0m\u001b[0m\n",
      "\u001b[0;32m<ipython-input-138-1877682b2eb9>\u001b[0m in \u001b[0;36mgoogle_username\u001b[0;34m(x)\u001b[0m\n\u001b[1;32m      6\u001b[0m     \u001b[0mht1\u001b[0m \u001b[0;34m=\u001b[0m \u001b[0;34m'http://codeforces.com/profile/'\u001b[0m\u001b[0;34m\u001b[0m\u001b[0;34m\u001b[0m\u001b[0m\n\u001b[1;32m      7\u001b[0m     \u001b[0mht2\u001b[0m \u001b[0;34m=\u001b[0m \u001b[0;34m'https://codeforces.com/profile/'\u001b[0m\u001b[0;34m\u001b[0m\u001b[0;34m\u001b[0m\u001b[0m\n\u001b[0;32m----> 8\u001b[0;31m     \u001b[0;32mfor\u001b[0m \u001b[0mi\u001b[0m \u001b[0;32min\u001b[0m \u001b[0msearch\u001b[0m\u001b[0;34m(\u001b[0m\u001b[0mquery\u001b[0m\u001b[0;34m,\u001b[0m \u001b[0mtld\u001b[0m\u001b[0;34m=\u001b[0m\u001b[0;34m\"co.in\"\u001b[0m\u001b[0;34m,\u001b[0m \u001b[0mnum\u001b[0m\u001b[0;34m=\u001b[0m\u001b[0;36m2\u001b[0m\u001b[0;34m,\u001b[0m \u001b[0mstop\u001b[0m\u001b[0;34m=\u001b[0m\u001b[0;36m2\u001b[0m\u001b[0;34m,\u001b[0m \u001b[0mpause\u001b[0m\u001b[0;34m=\u001b[0m\u001b[0;36m2\u001b[0m\u001b[0;34m)\u001b[0m\u001b[0;34m:\u001b[0m\u001b[0;34m\u001b[0m\u001b[0;34m\u001b[0m\u001b[0m\n\u001b[0m\u001b[1;32m      9\u001b[0m         \u001b[0;31m#print(i)\u001b[0m\u001b[0;34m\u001b[0m\u001b[0;34m\u001b[0m\u001b[0;34m\u001b[0m\u001b[0m\n\u001b[1;32m     10\u001b[0m         \u001b[0;32mfor\u001b[0m \u001b[0mj\u001b[0m \u001b[0;32min\u001b[0m \u001b[0;34m[\u001b[0m\u001b[0mht1\u001b[0m\u001b[0;34m,\u001b[0m \u001b[0mht2\u001b[0m\u001b[0;34m]\u001b[0m\u001b[0;34m:\u001b[0m\u001b[0;34m\u001b[0m\u001b[0;34m\u001b[0m\u001b[0m\n",
      "\u001b[0;32m~/opt/anaconda3/lib/python3.7/site-packages/googlesearch/__init__.py\u001b[0m in \u001b[0;36msearch\u001b[0;34m(query, tld, lang, tbs, safe, num, start, stop, pause, country, extra_params, user_agent, verify_ssl)\u001b[0m\n\u001b[1;32m    303\u001b[0m \u001b[0;34m\u001b[0m\u001b[0m\n\u001b[1;32m    304\u001b[0m         \u001b[0;31m# Request the Google Search results page.\u001b[0m\u001b[0;34m\u001b[0m\u001b[0;34m\u001b[0m\u001b[0;34m\u001b[0m\u001b[0m\n\u001b[0;32m--> 305\u001b[0;31m         \u001b[0mhtml\u001b[0m \u001b[0;34m=\u001b[0m \u001b[0mget_page\u001b[0m\u001b[0;34m(\u001b[0m\u001b[0murl\u001b[0m\u001b[0;34m,\u001b[0m \u001b[0muser_agent\u001b[0m\u001b[0;34m,\u001b[0m \u001b[0mverify_ssl\u001b[0m\u001b[0;34m)\u001b[0m\u001b[0;34m\u001b[0m\u001b[0;34m\u001b[0m\u001b[0m\n\u001b[0m\u001b[1;32m    306\u001b[0m \u001b[0;34m\u001b[0m\u001b[0m\n\u001b[1;32m    307\u001b[0m         \u001b[0;31m# Parse the response and get every anchored URL.\u001b[0m\u001b[0;34m\u001b[0m\u001b[0;34m\u001b[0m\u001b[0;34m\u001b[0m\u001b[0m\n",
      "\u001b[0;32m~/opt/anaconda3/lib/python3.7/site-packages/googlesearch/__init__.py\u001b[0m in \u001b[0;36mget_page\u001b[0;34m(url, user_agent, verify_ssl)\u001b[0m\n\u001b[1;32m    172\u001b[0m     \u001b[0mcookie_jar\u001b[0m\u001b[0;34m.\u001b[0m\u001b[0madd_cookie_header\u001b[0m\u001b[0;34m(\u001b[0m\u001b[0mrequest\u001b[0m\u001b[0;34m)\u001b[0m\u001b[0;34m\u001b[0m\u001b[0;34m\u001b[0m\u001b[0m\n\u001b[1;32m    173\u001b[0m     \u001b[0;32mif\u001b[0m \u001b[0mverify_ssl\u001b[0m\u001b[0;34m:\u001b[0m\u001b[0;34m\u001b[0m\u001b[0;34m\u001b[0m\u001b[0m\n\u001b[0;32m--> 174\u001b[0;31m         \u001b[0mresponse\u001b[0m \u001b[0;34m=\u001b[0m \u001b[0murlopen\u001b[0m\u001b[0;34m(\u001b[0m\u001b[0mrequest\u001b[0m\u001b[0;34m)\u001b[0m\u001b[0;34m\u001b[0m\u001b[0;34m\u001b[0m\u001b[0m\n\u001b[0m\u001b[1;32m    175\u001b[0m     \u001b[0;32melse\u001b[0m\u001b[0;34m:\u001b[0m\u001b[0;34m\u001b[0m\u001b[0;34m\u001b[0m\u001b[0m\n\u001b[1;32m    176\u001b[0m         \u001b[0mcontext\u001b[0m \u001b[0;34m=\u001b[0m \u001b[0mssl\u001b[0m\u001b[0;34m.\u001b[0m\u001b[0m_create_unverified_context\u001b[0m\u001b[0;34m(\u001b[0m\u001b[0;34m)\u001b[0m\u001b[0;34m\u001b[0m\u001b[0;34m\u001b[0m\u001b[0m\n",
      "\u001b[0;32m~/opt/anaconda3/lib/python3.7/urllib/request.py\u001b[0m in \u001b[0;36murlopen\u001b[0;34m(url, data, timeout, cafile, capath, cadefault, context)\u001b[0m\n\u001b[1;32m    220\u001b[0m     \u001b[0;32melse\u001b[0m\u001b[0;34m:\u001b[0m\u001b[0;34m\u001b[0m\u001b[0;34m\u001b[0m\u001b[0m\n\u001b[1;32m    221\u001b[0m         \u001b[0mopener\u001b[0m \u001b[0;34m=\u001b[0m \u001b[0m_opener\u001b[0m\u001b[0;34m\u001b[0m\u001b[0;34m\u001b[0m\u001b[0m\n\u001b[0;32m--> 222\u001b[0;31m     \u001b[0;32mreturn\u001b[0m \u001b[0mopener\u001b[0m\u001b[0;34m.\u001b[0m\u001b[0mopen\u001b[0m\u001b[0;34m(\u001b[0m\u001b[0murl\u001b[0m\u001b[0;34m,\u001b[0m \u001b[0mdata\u001b[0m\u001b[0;34m,\u001b[0m \u001b[0mtimeout\u001b[0m\u001b[0;34m)\u001b[0m\u001b[0;34m\u001b[0m\u001b[0;34m\u001b[0m\u001b[0m\n\u001b[0m\u001b[1;32m    223\u001b[0m \u001b[0;34m\u001b[0m\u001b[0m\n\u001b[1;32m    224\u001b[0m \u001b[0;32mdef\u001b[0m \u001b[0minstall_opener\u001b[0m\u001b[0;34m(\u001b[0m\u001b[0mopener\u001b[0m\u001b[0;34m)\u001b[0m\u001b[0;34m:\u001b[0m\u001b[0;34m\u001b[0m\u001b[0;34m\u001b[0m\u001b[0m\n",
      "\u001b[0;32m~/opt/anaconda3/lib/python3.7/urllib/request.py\u001b[0m in \u001b[0;36mopen\u001b[0;34m(self, fullurl, data, timeout)\u001b[0m\n\u001b[1;32m    529\u001b[0m         \u001b[0;32mfor\u001b[0m \u001b[0mprocessor\u001b[0m \u001b[0;32min\u001b[0m \u001b[0mself\u001b[0m\u001b[0;34m.\u001b[0m\u001b[0mprocess_response\u001b[0m\u001b[0;34m.\u001b[0m\u001b[0mget\u001b[0m\u001b[0;34m(\u001b[0m\u001b[0mprotocol\u001b[0m\u001b[0;34m,\u001b[0m \u001b[0;34m[\u001b[0m\u001b[0;34m]\u001b[0m\u001b[0;34m)\u001b[0m\u001b[0;34m:\u001b[0m\u001b[0;34m\u001b[0m\u001b[0;34m\u001b[0m\u001b[0m\n\u001b[1;32m    530\u001b[0m             \u001b[0mmeth\u001b[0m \u001b[0;34m=\u001b[0m \u001b[0mgetattr\u001b[0m\u001b[0;34m(\u001b[0m\u001b[0mprocessor\u001b[0m\u001b[0;34m,\u001b[0m \u001b[0mmeth_name\u001b[0m\u001b[0;34m)\u001b[0m\u001b[0;34m\u001b[0m\u001b[0;34m\u001b[0m\u001b[0m\n\u001b[0;32m--> 531\u001b[0;31m             \u001b[0mresponse\u001b[0m \u001b[0;34m=\u001b[0m \u001b[0mmeth\u001b[0m\u001b[0;34m(\u001b[0m\u001b[0mreq\u001b[0m\u001b[0;34m,\u001b[0m \u001b[0mresponse\u001b[0m\u001b[0;34m)\u001b[0m\u001b[0;34m\u001b[0m\u001b[0;34m\u001b[0m\u001b[0m\n\u001b[0m\u001b[1;32m    532\u001b[0m \u001b[0;34m\u001b[0m\u001b[0m\n\u001b[1;32m    533\u001b[0m         \u001b[0;32mreturn\u001b[0m \u001b[0mresponse\u001b[0m\u001b[0;34m\u001b[0m\u001b[0;34m\u001b[0m\u001b[0m\n",
      "\u001b[0;32m~/opt/anaconda3/lib/python3.7/urllib/request.py\u001b[0m in \u001b[0;36mhttp_response\u001b[0;34m(self, request, response)\u001b[0m\n\u001b[1;32m    639\u001b[0m         \u001b[0;32mif\u001b[0m \u001b[0;32mnot\u001b[0m \u001b[0;34m(\u001b[0m\u001b[0;36m200\u001b[0m \u001b[0;34m<=\u001b[0m \u001b[0mcode\u001b[0m \u001b[0;34m<\u001b[0m \u001b[0;36m300\u001b[0m\u001b[0;34m)\u001b[0m\u001b[0;34m:\u001b[0m\u001b[0;34m\u001b[0m\u001b[0;34m\u001b[0m\u001b[0m\n\u001b[1;32m    640\u001b[0m             response = self.parent.error(\n\u001b[0;32m--> 641\u001b[0;31m                 'http', request, response, code, msg, hdrs)\n\u001b[0m\u001b[1;32m    642\u001b[0m \u001b[0;34m\u001b[0m\u001b[0m\n\u001b[1;32m    643\u001b[0m         \u001b[0;32mreturn\u001b[0m \u001b[0mresponse\u001b[0m\u001b[0;34m\u001b[0m\u001b[0;34m\u001b[0m\u001b[0m\n",
      "\u001b[0;32m~/opt/anaconda3/lib/python3.7/urllib/request.py\u001b[0m in \u001b[0;36merror\u001b[0;34m(self, proto, *args)\u001b[0m\n\u001b[1;32m    561\u001b[0m             \u001b[0mhttp_err\u001b[0m \u001b[0;34m=\u001b[0m \u001b[0;36m0\u001b[0m\u001b[0;34m\u001b[0m\u001b[0;34m\u001b[0m\u001b[0m\n\u001b[1;32m    562\u001b[0m         \u001b[0margs\u001b[0m \u001b[0;34m=\u001b[0m \u001b[0;34m(\u001b[0m\u001b[0mdict\u001b[0m\u001b[0;34m,\u001b[0m \u001b[0mproto\u001b[0m\u001b[0;34m,\u001b[0m \u001b[0mmeth_name\u001b[0m\u001b[0;34m)\u001b[0m \u001b[0;34m+\u001b[0m \u001b[0margs\u001b[0m\u001b[0;34m\u001b[0m\u001b[0;34m\u001b[0m\u001b[0m\n\u001b[0;32m--> 563\u001b[0;31m         \u001b[0mresult\u001b[0m \u001b[0;34m=\u001b[0m \u001b[0mself\u001b[0m\u001b[0;34m.\u001b[0m\u001b[0m_call_chain\u001b[0m\u001b[0;34m(\u001b[0m\u001b[0;34m*\u001b[0m\u001b[0margs\u001b[0m\u001b[0;34m)\u001b[0m\u001b[0;34m\u001b[0m\u001b[0;34m\u001b[0m\u001b[0m\n\u001b[0m\u001b[1;32m    564\u001b[0m         \u001b[0;32mif\u001b[0m \u001b[0mresult\u001b[0m\u001b[0;34m:\u001b[0m\u001b[0;34m\u001b[0m\u001b[0;34m\u001b[0m\u001b[0m\n\u001b[1;32m    565\u001b[0m             \u001b[0;32mreturn\u001b[0m \u001b[0mresult\u001b[0m\u001b[0;34m\u001b[0m\u001b[0;34m\u001b[0m\u001b[0m\n",
      "\u001b[0;32m~/opt/anaconda3/lib/python3.7/urllib/request.py\u001b[0m in \u001b[0;36m_call_chain\u001b[0;34m(self, chain, kind, meth_name, *args)\u001b[0m\n\u001b[1;32m    501\u001b[0m         \u001b[0;32mfor\u001b[0m \u001b[0mhandler\u001b[0m \u001b[0;32min\u001b[0m \u001b[0mhandlers\u001b[0m\u001b[0;34m:\u001b[0m\u001b[0;34m\u001b[0m\u001b[0;34m\u001b[0m\u001b[0m\n\u001b[1;32m    502\u001b[0m             \u001b[0mfunc\u001b[0m \u001b[0;34m=\u001b[0m \u001b[0mgetattr\u001b[0m\u001b[0;34m(\u001b[0m\u001b[0mhandler\u001b[0m\u001b[0;34m,\u001b[0m \u001b[0mmeth_name\u001b[0m\u001b[0;34m)\u001b[0m\u001b[0;34m\u001b[0m\u001b[0;34m\u001b[0m\u001b[0m\n\u001b[0;32m--> 503\u001b[0;31m             \u001b[0mresult\u001b[0m \u001b[0;34m=\u001b[0m \u001b[0mfunc\u001b[0m\u001b[0;34m(\u001b[0m\u001b[0;34m*\u001b[0m\u001b[0margs\u001b[0m\u001b[0;34m)\u001b[0m\u001b[0;34m\u001b[0m\u001b[0;34m\u001b[0m\u001b[0m\n\u001b[0m\u001b[1;32m    504\u001b[0m             \u001b[0;32mif\u001b[0m \u001b[0mresult\u001b[0m \u001b[0;32mis\u001b[0m \u001b[0;32mnot\u001b[0m \u001b[0;32mNone\u001b[0m\u001b[0;34m:\u001b[0m\u001b[0;34m\u001b[0m\u001b[0;34m\u001b[0m\u001b[0m\n\u001b[1;32m    505\u001b[0m                 \u001b[0;32mreturn\u001b[0m \u001b[0mresult\u001b[0m\u001b[0;34m\u001b[0m\u001b[0;34m\u001b[0m\u001b[0m\n",
      "\u001b[0;32m~/opt/anaconda3/lib/python3.7/urllib/request.py\u001b[0m in \u001b[0;36mhttp_error_302\u001b[0;34m(self, req, fp, code, msg, headers)\u001b[0m\n\u001b[1;32m    753\u001b[0m         \u001b[0mfp\u001b[0m\u001b[0;34m.\u001b[0m\u001b[0mclose\u001b[0m\u001b[0;34m(\u001b[0m\u001b[0;34m)\u001b[0m\u001b[0;34m\u001b[0m\u001b[0;34m\u001b[0m\u001b[0m\n\u001b[1;32m    754\u001b[0m \u001b[0;34m\u001b[0m\u001b[0m\n\u001b[0;32m--> 755\u001b[0;31m         \u001b[0;32mreturn\u001b[0m \u001b[0mself\u001b[0m\u001b[0;34m.\u001b[0m\u001b[0mparent\u001b[0m\u001b[0;34m.\u001b[0m\u001b[0mopen\u001b[0m\u001b[0;34m(\u001b[0m\u001b[0mnew\u001b[0m\u001b[0;34m,\u001b[0m \u001b[0mtimeout\u001b[0m\u001b[0;34m=\u001b[0m\u001b[0mreq\u001b[0m\u001b[0;34m.\u001b[0m\u001b[0mtimeout\u001b[0m\u001b[0;34m)\u001b[0m\u001b[0;34m\u001b[0m\u001b[0;34m\u001b[0m\u001b[0m\n\u001b[0m\u001b[1;32m    756\u001b[0m \u001b[0;34m\u001b[0m\u001b[0m\n\u001b[1;32m    757\u001b[0m     \u001b[0mhttp_error_301\u001b[0m \u001b[0;34m=\u001b[0m \u001b[0mhttp_error_303\u001b[0m \u001b[0;34m=\u001b[0m \u001b[0mhttp_error_307\u001b[0m \u001b[0;34m=\u001b[0m \u001b[0mhttp_error_302\u001b[0m\u001b[0;34m\u001b[0m\u001b[0;34m\u001b[0m\u001b[0m\n",
      "\u001b[0;32m~/opt/anaconda3/lib/python3.7/urllib/request.py\u001b[0m in \u001b[0;36mopen\u001b[0;34m(self, fullurl, data, timeout)\u001b[0m\n\u001b[1;32m    529\u001b[0m         \u001b[0;32mfor\u001b[0m \u001b[0mprocessor\u001b[0m \u001b[0;32min\u001b[0m \u001b[0mself\u001b[0m\u001b[0;34m.\u001b[0m\u001b[0mprocess_response\u001b[0m\u001b[0;34m.\u001b[0m\u001b[0mget\u001b[0m\u001b[0;34m(\u001b[0m\u001b[0mprotocol\u001b[0m\u001b[0;34m,\u001b[0m \u001b[0;34m[\u001b[0m\u001b[0;34m]\u001b[0m\u001b[0;34m)\u001b[0m\u001b[0;34m:\u001b[0m\u001b[0;34m\u001b[0m\u001b[0;34m\u001b[0m\u001b[0m\n\u001b[1;32m    530\u001b[0m             \u001b[0mmeth\u001b[0m \u001b[0;34m=\u001b[0m \u001b[0mgetattr\u001b[0m\u001b[0;34m(\u001b[0m\u001b[0mprocessor\u001b[0m\u001b[0;34m,\u001b[0m \u001b[0mmeth_name\u001b[0m\u001b[0;34m)\u001b[0m\u001b[0;34m\u001b[0m\u001b[0;34m\u001b[0m\u001b[0m\n\u001b[0;32m--> 531\u001b[0;31m             \u001b[0mresponse\u001b[0m \u001b[0;34m=\u001b[0m \u001b[0mmeth\u001b[0m\u001b[0;34m(\u001b[0m\u001b[0mreq\u001b[0m\u001b[0;34m,\u001b[0m \u001b[0mresponse\u001b[0m\u001b[0;34m)\u001b[0m\u001b[0;34m\u001b[0m\u001b[0;34m\u001b[0m\u001b[0m\n\u001b[0m\u001b[1;32m    532\u001b[0m \u001b[0;34m\u001b[0m\u001b[0m\n\u001b[1;32m    533\u001b[0m         \u001b[0;32mreturn\u001b[0m \u001b[0mresponse\u001b[0m\u001b[0;34m\u001b[0m\u001b[0;34m\u001b[0m\u001b[0m\n",
      "\u001b[0;32m~/opt/anaconda3/lib/python3.7/urllib/request.py\u001b[0m in \u001b[0;36mhttp_response\u001b[0;34m(self, request, response)\u001b[0m\n\u001b[1;32m    639\u001b[0m         \u001b[0;32mif\u001b[0m \u001b[0;32mnot\u001b[0m \u001b[0;34m(\u001b[0m\u001b[0;36m200\u001b[0m \u001b[0;34m<=\u001b[0m \u001b[0mcode\u001b[0m \u001b[0;34m<\u001b[0m \u001b[0;36m300\u001b[0m\u001b[0;34m)\u001b[0m\u001b[0;34m:\u001b[0m\u001b[0;34m\u001b[0m\u001b[0;34m\u001b[0m\u001b[0m\n\u001b[1;32m    640\u001b[0m             response = self.parent.error(\n\u001b[0;32m--> 641\u001b[0;31m                 'http', request, response, code, msg, hdrs)\n\u001b[0m\u001b[1;32m    642\u001b[0m \u001b[0;34m\u001b[0m\u001b[0m\n\u001b[1;32m    643\u001b[0m         \u001b[0;32mreturn\u001b[0m \u001b[0mresponse\u001b[0m\u001b[0;34m\u001b[0m\u001b[0;34m\u001b[0m\u001b[0m\n",
      "\u001b[0;32m~/opt/anaconda3/lib/python3.7/urllib/request.py\u001b[0m in \u001b[0;36merror\u001b[0;34m(self, proto, *args)\u001b[0m\n\u001b[1;32m    567\u001b[0m         \u001b[0;32mif\u001b[0m \u001b[0mhttp_err\u001b[0m\u001b[0;34m:\u001b[0m\u001b[0;34m\u001b[0m\u001b[0;34m\u001b[0m\u001b[0m\n\u001b[1;32m    568\u001b[0m             \u001b[0margs\u001b[0m \u001b[0;34m=\u001b[0m \u001b[0;34m(\u001b[0m\u001b[0mdict\u001b[0m\u001b[0;34m,\u001b[0m \u001b[0;34m'default'\u001b[0m\u001b[0;34m,\u001b[0m \u001b[0;34m'http_error_default'\u001b[0m\u001b[0;34m)\u001b[0m \u001b[0;34m+\u001b[0m \u001b[0morig_args\u001b[0m\u001b[0;34m\u001b[0m\u001b[0;34m\u001b[0m\u001b[0m\n\u001b[0;32m--> 569\u001b[0;31m             \u001b[0;32mreturn\u001b[0m \u001b[0mself\u001b[0m\u001b[0;34m.\u001b[0m\u001b[0m_call_chain\u001b[0m\u001b[0;34m(\u001b[0m\u001b[0;34m*\u001b[0m\u001b[0margs\u001b[0m\u001b[0;34m)\u001b[0m\u001b[0;34m\u001b[0m\u001b[0;34m\u001b[0m\u001b[0m\n\u001b[0m\u001b[1;32m    570\u001b[0m \u001b[0;34m\u001b[0m\u001b[0m\n\u001b[1;32m    571\u001b[0m \u001b[0;31m# XXX probably also want an abstract factory that knows when it makes\u001b[0m\u001b[0;34m\u001b[0m\u001b[0;34m\u001b[0m\u001b[0;34m\u001b[0m\u001b[0m\n",
      "\u001b[0;32m~/opt/anaconda3/lib/python3.7/urllib/request.py\u001b[0m in \u001b[0;36m_call_chain\u001b[0;34m(self, chain, kind, meth_name, *args)\u001b[0m\n\u001b[1;32m    501\u001b[0m         \u001b[0;32mfor\u001b[0m \u001b[0mhandler\u001b[0m \u001b[0;32min\u001b[0m \u001b[0mhandlers\u001b[0m\u001b[0;34m:\u001b[0m\u001b[0;34m\u001b[0m\u001b[0;34m\u001b[0m\u001b[0m\n\u001b[1;32m    502\u001b[0m             \u001b[0mfunc\u001b[0m \u001b[0;34m=\u001b[0m \u001b[0mgetattr\u001b[0m\u001b[0;34m(\u001b[0m\u001b[0mhandler\u001b[0m\u001b[0;34m,\u001b[0m \u001b[0mmeth_name\u001b[0m\u001b[0;34m)\u001b[0m\u001b[0;34m\u001b[0m\u001b[0;34m\u001b[0m\u001b[0m\n\u001b[0;32m--> 503\u001b[0;31m             \u001b[0mresult\u001b[0m \u001b[0;34m=\u001b[0m \u001b[0mfunc\u001b[0m\u001b[0;34m(\u001b[0m\u001b[0;34m*\u001b[0m\u001b[0margs\u001b[0m\u001b[0;34m)\u001b[0m\u001b[0;34m\u001b[0m\u001b[0;34m\u001b[0m\u001b[0m\n\u001b[0m\u001b[1;32m    504\u001b[0m             \u001b[0;32mif\u001b[0m \u001b[0mresult\u001b[0m \u001b[0;32mis\u001b[0m \u001b[0;32mnot\u001b[0m \u001b[0;32mNone\u001b[0m\u001b[0;34m:\u001b[0m\u001b[0;34m\u001b[0m\u001b[0;34m\u001b[0m\u001b[0m\n\u001b[1;32m    505\u001b[0m                 \u001b[0;32mreturn\u001b[0m \u001b[0mresult\u001b[0m\u001b[0;34m\u001b[0m\u001b[0;34m\u001b[0m\u001b[0m\n",
      "\u001b[0;32m~/opt/anaconda3/lib/python3.7/urllib/request.py\u001b[0m in \u001b[0;36mhttp_error_default\u001b[0;34m(self, req, fp, code, msg, hdrs)\u001b[0m\n\u001b[1;32m    647\u001b[0m \u001b[0;32mclass\u001b[0m \u001b[0mHTTPDefaultErrorHandler\u001b[0m\u001b[0;34m(\u001b[0m\u001b[0mBaseHandler\u001b[0m\u001b[0;34m)\u001b[0m\u001b[0;34m:\u001b[0m\u001b[0;34m\u001b[0m\u001b[0;34m\u001b[0m\u001b[0m\n\u001b[1;32m    648\u001b[0m     \u001b[0;32mdef\u001b[0m \u001b[0mhttp_error_default\u001b[0m\u001b[0;34m(\u001b[0m\u001b[0mself\u001b[0m\u001b[0;34m,\u001b[0m \u001b[0mreq\u001b[0m\u001b[0;34m,\u001b[0m \u001b[0mfp\u001b[0m\u001b[0;34m,\u001b[0m \u001b[0mcode\u001b[0m\u001b[0;34m,\u001b[0m \u001b[0mmsg\u001b[0m\u001b[0;34m,\u001b[0m \u001b[0mhdrs\u001b[0m\u001b[0;34m)\u001b[0m\u001b[0;34m:\u001b[0m\u001b[0;34m\u001b[0m\u001b[0;34m\u001b[0m\u001b[0m\n\u001b[0;32m--> 649\u001b[0;31m         \u001b[0;32mraise\u001b[0m \u001b[0mHTTPError\u001b[0m\u001b[0;34m(\u001b[0m\u001b[0mreq\u001b[0m\u001b[0;34m.\u001b[0m\u001b[0mfull_url\u001b[0m\u001b[0;34m,\u001b[0m \u001b[0mcode\u001b[0m\u001b[0;34m,\u001b[0m \u001b[0mmsg\u001b[0m\u001b[0;34m,\u001b[0m \u001b[0mhdrs\u001b[0m\u001b[0;34m,\u001b[0m \u001b[0mfp\u001b[0m\u001b[0;34m)\u001b[0m\u001b[0;34m\u001b[0m\u001b[0;34m\u001b[0m\u001b[0m\n\u001b[0m\u001b[1;32m    650\u001b[0m \u001b[0;34m\u001b[0m\u001b[0m\n\u001b[1;32m    651\u001b[0m \u001b[0;32mclass\u001b[0m \u001b[0mHTTPRedirectHandler\u001b[0m\u001b[0;34m(\u001b[0m\u001b[0mBaseHandler\u001b[0m\u001b[0;34m)\u001b[0m\u001b[0;34m:\u001b[0m\u001b[0;34m\u001b[0m\u001b[0;34m\u001b[0m\u001b[0m\n",
      "\u001b[0;31mHTTPError\u001b[0m: HTTP Error 429: Too Many Requests"
     ]
    }
   ],
   "source": [
    "ghost = standing[\"ghost\"].tolist()\n",
    "party = standing[\"party\"].tolist()\n",
    "members = standing[\"members\"].tolist()\n",
    "cnt, yes, no = 0, 0, 0\n",
    "for i in range(0, len(ghost)):\n",
    "    if ghost[i] == True:\n",
    "        x = ast.literal_eval(party[i])['teamName']\n",
    "        res = x.find(\": \")\n",
    "        if(res == -1):\n",
    "            members[i] = \"[]\"\n",
    "        else:\n",
    "            cnt += 1\n",
    "            y = x[res+2:]\n",
    "            haha = y.split(\", \")\n",
    "            users = []\n",
    "            for query in haha:\n",
    "                ans = google_username(query)\n",
    "                #print(query, ans)\n",
    "                if ans != '404notfound':\n",
    "                    users.append(ans)\n",
    "            #print(users)\n",
    "            \n",
    "            \n",
    "            if len(users) == len(haha):\n",
    "                members[i] = str(users)\n",
    "                yes += 1\n",
    "            else:\n",
    "                members[i] = \"[]\"\n",
    "                no += 1\n",
    "            print(members[i])\n",
    "            print(\":D\", i, \"out of \", len(ghost))\n",
    "        if cnt >= 5:\n",
    "            break\n",
    "    else:\n",
    "        x = ast.literal_eval(members[i])\n",
    "        y = []\n",
    "        for j in x:\n",
    "            y.append(j['handle'])\n",
    "        members[i] = str(y)\n",
    "print(\"successfull searchs resulting complete teams = \", yes)\n",
    "print(\"unsuccessfull searchs resulting incomplete teams = \", no)"
   ]
  },
  {
   "cell_type": "code",
   "execution_count": null,
   "metadata": {},
   "outputs": [],
   "source": []
  },
  {
   "cell_type": "code",
   "execution_count": 154,
   "metadata": {},
   "outputs": [
    {
     "name": "stdout",
     "output_type": "stream",
     "text": [
      "[\"['peter50216', 'Shik']\", \"['I_love_Hoang_Yen']\", \"['Visconte', 'Localhost', 'DiEvAl']\", \"['kennethsnow']\", \"['niklasb']\", \"['135678942570']\", \"['isthmus', 'drazil', 'dreamoon_love_AA']\", \"['SkyDec', 'zld3794955', 'hzwer']\", \"['vviital', 'KArs']\", \"['betaveros']\"]\n"
     ]
    }
   ],
   "source": [
    "print(members[:10])"
   ]
  },
  {
   "cell_type": "code",
   "execution_count": 24,
   "metadata": {},
   "outputs": [],
   "source": [
    "y = standing[\"party\"].tolist()"
   ]
  },
  {
   "cell_type": "code",
   "execution_count": 25,
   "metadata": {},
   "outputs": [
    {
     "name": "stdout",
     "output_type": "stream",
     "text": [
      "0\n",
      "{'contestId': 100633, 'members': [], 'participantType': 'VIRTUAL', 'teamName': 'SPb ITMO University #1', 'ghost': True, 'startTimeSeconds': 1427148280}\n",
      "[]\n",
      "1\n",
      "{'contestId': 100633, 'members': [], 'participantType': 'VIRTUAL', 'teamName': 'Moscow SU Tapirs', 'ghost': True, 'startTimeSeconds': 1427148280}\n",
      "[]\n",
      "2\n",
      "{'contestId': 100633, 'members': [], 'participantType': 'VIRTUAL', 'teamName': 'Zhukov Team: Gimadeev, Verkhoglyadov, Zhukov', 'ghost': True, 'startTimeSeconds': 1427148280}\n",
      "[]\n",
      "3\n",
      "{'contestId': 100633, 'members': [], 'participantType': 'VIRTUAL', 'teamName': 'XZ Team: Fetisov, Isenbaev, Rakhov', 'ghost': True, 'startTimeSeconds': 1427148280}\n",
      "[]\n",
      "4\n",
      "{'contestId': 100633, 'members': [], 'participantType': 'VIRTUAL', 'teamName': 'SPb NRU ITMO 2: Bardashevich, Kovsharov, Smykalov', 'ghost': True, 'startTimeSeconds': 1427148280}\n",
      "[]\n",
      "5\n",
      "{'contestId': 100633, 'members': [], 'participantType': 'VIRTUAL', 'teamName': 'Ural FU Dandelion', 'ghost': True, 'startTimeSeconds': 1427148280}\n",
      "[]\n",
      "6\n",
      "{'contestId': 100633, 'members': [], 'participantType': 'VIRTUAL', 'teamName': 'Moscow SU Trinity', 'ghost': True, 'startTimeSeconds': 1427148280}\n",
      "[]\n",
      "7\n",
      "{'contestId': 100633, 'members': [], 'participantType': 'VIRTUAL', 'teamName': 'Petr Team: Mitrichev', 'ghost': True, 'startTimeSeconds': 1427148280}\n",
      "[]\n",
      "8\n",
      "{'contestId': 100633, 'members': [], 'participantType': 'VIRTUAL', 'teamName': 'LNU Penguins: Bilyi, Herasymiv, Pryshchenko', 'ghost': True, 'startTimeSeconds': 1427148280}\n",
      "[]\n",
      "9\n",
      "{'contestId': 100633, 'members': [], 'participantType': 'VIRTUAL', 'teamName': 'Moscow IPT The Sun: Chebanov, Mashrabov, Tikhomirov', 'ghost': True, 'startTimeSeconds': 1427148280}\n",
      "[]\n",
      "10\n",
      "{'contestId': 100633, 'members': [], 'participantType': 'VIRTUAL', 'teamName': 'Nizhny Novgorod SU', 'ghost': True, 'startTimeSeconds': 1427148280}\n",
      "[]\n",
      "11\n",
      "{'contestId': 100633, 'members': [], 'participantType': 'VIRTUAL', 'teamName': 'Moscow IPT Jinotega', 'ghost': True, 'startTimeSeconds': 1427148280}\n",
      "[]\n",
      "12\n",
      "{'contestId': 100633, 'members': [], 'participantType': 'VIRTUAL', 'teamName': 'Unpretired: Dlougach, Kornakov, Popelyshev', 'ghost': True, 'startTimeSeconds': 1427148280}\n",
      "[]\n",
      "13\n",
      "{'contestId': 100633, 'members': [], 'participantType': 'VIRTUAL', 'teamName': 'SPB AU Nibbler (Karpov, Akimov, Slujhaev)', 'ghost': True, 'startTimeSeconds': 1427148280}\n",
      "[]\n",
      "14\n",
      "{'contestId': 100633, 'members': [], 'participantType': 'VIRTUAL', 'teamName': 'Moscow IPT Ababahalamaha: Babanin, Dmitriev, Ostanin', 'ghost': True, 'startTimeSeconds': 1427148280}\n",
      "[]\n",
      "15\n",
      "{'contestId': 100633, 'members': [], 'participantType': 'VIRTUAL', 'teamName': 'japan00 Soejima', 'ghost': True, 'startTimeSeconds': 1427148280}\n",
      "[]\n",
      "16\n",
      "{'contestId': 100633, 'members': [], 'participantType': 'VIRTUAL', 'teamName': 'Petrozavodsk + Kazan + Nizhny Novgorod: Ioffe, Nigmatullin, Shmelev', 'ghost': True, 'startTimeSeconds': 1427148280}\n",
      "[]\n",
      "17\n",
      "{'contestId': 100633, 'members': [], 'participantType': 'VIRTUAL', 'teamName': 'kyiv15', 'ghost': True, 'startTimeSeconds': 1427148280}\n",
      "[]\n",
      "18\n",
      "{'contestId': 100633, 'members': [], 'participantType': 'VIRTUAL', 'teamName': 'SPb SU First Ascent: Makarov, Savchenkov', 'ghost': True, 'startTimeSeconds': 1427148280}\n",
      "[]\n",
      "19\n",
      "{'contestId': 100633, 'members': [], 'participantType': 'VIRTUAL', 'teamName': 'SPb ITMO University #3', 'ghost': True, 'startTimeSeconds': 1427148280}\n",
      "[]\n",
      "20\n",
      "{'contestId': 100633, 'members': [], 'participantType': 'VIRTUAL', 'teamName': 'Moscow IPT Unknown', 'ghost': True, 'startTimeSeconds': 1427148280}\n",
      "[]\n",
      "21\n",
      "{'contestId': 100633, 'members': [], 'participantType': 'VIRTUAL', 'teamName': 'SPb SU is a ball: Gordeev, Sayfutdinov, Simonov', 'ghost': True, 'startTimeSeconds': 1427148280}\n",
      "[]\n",
      "22\n",
      "{'contestId': 100633, 'members': [], 'participantType': 'VIRTUAL', 'teamName': 'Yerevan SU 1: Harutyunyan Hrayr, Sahakyan Albert, Mamikonyan Tigran;', 'ghost': True, 'startTimeSeconds': 1427148280}\n",
      "[]\n",
      "23\n",
      "{'contestId': 100633, 'members': [], 'participantType': 'VIRTUAL', 'teamName': 'Saratov SU 42+1', 'ghost': True, 'startTimeSeconds': 1427148280}\n",
      "[]\n",
      "24\n",
      "{'contestId': 100633, 'members': [], 'participantType': 'VIRTUAL', 'teamName': 'BelarusianSU1 abacaba Kolesov, Hrytskevich, Nekrashevich', 'ghost': True, 'startTimeSeconds': 1427148280}\n",
      "[]\n",
      "25\n",
      "{'contestId': 100633, 'members': [], 'participantType': 'VIRTUAL', 'teamName': \"Moscow SU 04: Permin, Vorob'yov, Pak\", 'ghost': True, 'startTimeSeconds': 1427148280}\n",
      "[]\n",
      "26\n",
      "{'contestId': 100633, 'members': [], 'participantType': 'VIRTUAL', 'teamName': 'Kyiv NU Frogs: Zdomsky, Zinchenko, Shevchuk', 'ghost': True, 'startTimeSeconds': 1427148280}\n",
      "[]\n",
      "27\n",
      "{'contestId': 100633, 'members': [], 'participantType': 'VIRTUAL', 'teamName': 'Take chance: Dhananjoy, Mahbub, Nafis', 'ghost': True, 'startTimeSeconds': 1427148280}\n",
      "[]\n",
      "28\n",
      "{'contestId': 100633, 'members': [], 'participantType': 'VIRTUAL', 'teamName': 'Belarusian SUIR #1: Solovyov, Volcheck, Sobol', 'ghost': True, 'startTimeSeconds': 1427148280}\n",
      "[]\n",
      "29\n",
      "{'contestId': 100633, 'members': [], 'participantType': 'VIRTUAL', 'teamName': 'SPb SU Silver Marriage: Gulikov, Logunov, Riazanov', 'ghost': True, 'startTimeSeconds': 1427148280}\n",
      "[]\n"
     ]
    }
   ],
   "source": [
    "for i in range(30):\n",
    "    print(i)\n",
    "    print(y[i])\n",
    "    print(x[i])"
   ]
  },
  {
   "cell_type": "code",
   "execution_count": 26,
   "metadata": {},
   "outputs": [
    {
     "name": "stdout",
     "output_type": "stream",
     "text": [
      "Collecting google\n",
      "\u001b[?25l  Downloading https://files.pythonhosted.org/packages/ac/35/17c9141c4ae21e9a29a43acdfd848e3e468a810517f862cad07977bf8fe9/google-3.0.0-py2.py3-none-any.whl (45kB)\n",
      "\u001b[K     |████████████████████████████████| 51kB 431kB/s eta 0:00:01\n",
      "\u001b[?25hRequirement already satisfied: beautifulsoup4 in /Users/sasa/opt/anaconda3/lib/python3.7/site-packages (from google) (4.8.0)\n",
      "Requirement already satisfied: soupsieve>=1.2 in /Users/sasa/opt/anaconda3/lib/python3.7/site-packages (from beautifulsoup4->google) (1.9.3)\n",
      "Installing collected packages: google\n",
      "Successfully installed google-3.0.0\n",
      "Note: you may need to restart the kernel to use updated packages.\n"
     ]
    }
   ],
   "source": [
    "pip install google\n"
   ]
  },
  {
   "cell_type": "code",
   "execution_count": 27,
   "metadata": {},
   "outputs": [],
   "source": []
  },
  {
   "cell_type": "code",
   "execution_count": 99,
   "metadata": {},
   "outputs": [],
   "source": []
  },
  {
   "cell_type": "code",
   "execution_count": 100,
   "metadata": {},
   "outputs": [
    {
     "data": {
      "text/plain": [
       "'pavel.savchenkov'"
      ]
     },
     "execution_count": 100,
     "metadata": {},
     "output_type": "execute_result"
    }
   ],
   "source": [
    "google_username('Savchenkov')"
   ]
  },
  {
   "cell_type": "code",
   "execution_count": 63,
   "metadata": {},
   "outputs": [
    {
     "data": {
      "text/plain": [
       "'404notfound'"
      ]
     },
     "execution_count": 63,
     "metadata": {},
     "output_type": "execute_result"
    }
   ],
   "source": [
    "findusername('sepsad')"
   ]
  },
  {
   "cell_type": "code",
   "execution_count": null,
   "metadata": {},
   "outputs": [],
   "source": [
    "'Kyiv NU Frogs: Zdomsky, Zinchenko, Shevchuk'"
   ]
  }
 ],
 "metadata": {
  "interpreter": {
   "hash": "b0fa6594d8f4cbf19f97940f81e996739fb7646882a419484c72d19e05852a7e"
  },
  "kernelspec": {
   "display_name": "Python 3",
   "language": "python",
   "name": "python3"
  },
  "language_info": {
   "codemirror_mode": {
    "name": "ipython",
    "version": 3
   },
   "file_extension": ".py",
   "mimetype": "text/x-python",
   "name": "python",
   "nbconvert_exporter": "python",
   "pygments_lexer": "ipython3",
   "version": "3.7.4"
  }
 },
 "nbformat": 4,
 "nbformat_minor": 2
}
